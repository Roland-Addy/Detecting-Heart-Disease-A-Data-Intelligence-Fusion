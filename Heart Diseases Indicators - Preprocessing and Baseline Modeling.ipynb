{
 "cells": [
  {
   "cell_type": "code",
   "execution_count": 1,
   "id": "52bc890e",
   "metadata": {},
   "outputs": [],
   "source": [
    "#Importing required modules\n",
    "import seaborn as sns\n",
    "import numpy as np\n",
    "import matplotlib.pyplot as plt\n",
    "import pandas as pd\n",
    "import math\n",
    "\n",
    "import statsmodels.api as sm"
   ]
  },
  {
   "cell_type": "code",
   "execution_count": 2,
   "id": "6f7c605c",
   "metadata": {},
   "outputs": [
    {
     "data": {
      "text/html": [
       "<div>\n",
       "<style scoped>\n",
       "    .dataframe tbody tr th:only-of-type {\n",
       "        vertical-align: middle;\n",
       "    }\n",
       "\n",
       "    .dataframe tbody tr th {\n",
       "        vertical-align: top;\n",
       "    }\n",
       "\n",
       "    .dataframe thead th {\n",
       "        text-align: right;\n",
       "    }\n",
       "</style>\n",
       "<table border=\"1\" class=\"dataframe\">\n",
       "  <thead>\n",
       "    <tr style=\"text-align: right;\">\n",
       "      <th></th>\n",
       "      <th>Sex</th>\n",
       "      <th>PhysicalHealthDays</th>\n",
       "      <th>MentalHealthDays</th>\n",
       "      <th>SleepHours</th>\n",
       "      <th>HadHeartAttack</th>\n",
       "      <th>HeightInMeters</th>\n",
       "      <th>WeightInKilograms</th>\n",
       "      <th>State_Alaska</th>\n",
       "      <th>State_Arizona</th>\n",
       "      <th>State_Arkansas</th>\n",
       "      <th>...</th>\n",
       "      <th>FluVaxLast12_Yes</th>\n",
       "      <th>PneumoVaxEver_No</th>\n",
       "      <th>PneumoVaxEver_Yes</th>\n",
       "      <th>TetanusLast10Tdap_No, did not receive any tetanus shot in the past 10 years</th>\n",
       "      <th>TetanusLast10Tdap_Yes, received Tdap</th>\n",
       "      <th>TetanusLast10Tdap_Yes, received tetanus shot but not sure what type</th>\n",
       "      <th>TetanusLast10Tdap_Yes, received tetanus shot, but not Tdap</th>\n",
       "      <th>HighRiskLastYear_Yes</th>\n",
       "      <th>CovidPos_Tested positive using home test without a health professional</th>\n",
       "      <th>CovidPos_Yes</th>\n",
       "    </tr>\n",
       "  </thead>\n",
       "  <tbody>\n",
       "    <tr>\n",
       "      <th>0</th>\n",
       "      <td>0</td>\n",
       "      <td>0.0</td>\n",
       "      <td>0.0</td>\n",
       "      <td>8.0</td>\n",
       "      <td>0</td>\n",
       "      <td>1.70</td>\n",
       "      <td>80.74</td>\n",
       "      <td>0</td>\n",
       "      <td>0</td>\n",
       "      <td>0</td>\n",
       "      <td>...</td>\n",
       "      <td>1</td>\n",
       "      <td>1</td>\n",
       "      <td>0</td>\n",
       "      <td>0</td>\n",
       "      <td>0</td>\n",
       "      <td>1</td>\n",
       "      <td>0</td>\n",
       "      <td>0</td>\n",
       "      <td>0</td>\n",
       "      <td>0</td>\n",
       "    </tr>\n",
       "    <tr>\n",
       "      <th>1</th>\n",
       "      <td>0</td>\n",
       "      <td>0.0</td>\n",
       "      <td>0.0</td>\n",
       "      <td>6.0</td>\n",
       "      <td>0</td>\n",
       "      <td>1.60</td>\n",
       "      <td>68.04</td>\n",
       "      <td>0</td>\n",
       "      <td>0</td>\n",
       "      <td>0</td>\n",
       "      <td>...</td>\n",
       "      <td>0</td>\n",
       "      <td>1</td>\n",
       "      <td>0</td>\n",
       "      <td>1</td>\n",
       "      <td>0</td>\n",
       "      <td>0</td>\n",
       "      <td>0</td>\n",
       "      <td>0</td>\n",
       "      <td>0</td>\n",
       "      <td>0</td>\n",
       "    </tr>\n",
       "    <tr>\n",
       "      <th>2</th>\n",
       "      <td>0</td>\n",
       "      <td>2.0</td>\n",
       "      <td>3.0</td>\n",
       "      <td>5.0</td>\n",
       "      <td>0</td>\n",
       "      <td>1.57</td>\n",
       "      <td>63.50</td>\n",
       "      <td>0</td>\n",
       "      <td>0</td>\n",
       "      <td>0</td>\n",
       "      <td>...</td>\n",
       "      <td>0</td>\n",
       "      <td>1</td>\n",
       "      <td>0</td>\n",
       "      <td>0</td>\n",
       "      <td>0</td>\n",
       "      <td>0</td>\n",
       "      <td>0</td>\n",
       "      <td>0</td>\n",
       "      <td>0</td>\n",
       "      <td>1</td>\n",
       "    </tr>\n",
       "    <tr>\n",
       "      <th>3</th>\n",
       "      <td>0</td>\n",
       "      <td>0.0</td>\n",
       "      <td>0.0</td>\n",
       "      <td>7.0</td>\n",
       "      <td>0</td>\n",
       "      <td>1.65</td>\n",
       "      <td>63.50</td>\n",
       "      <td>0</td>\n",
       "      <td>0</td>\n",
       "      <td>0</td>\n",
       "      <td>...</td>\n",
       "      <td>1</td>\n",
       "      <td>0</td>\n",
       "      <td>1</td>\n",
       "      <td>1</td>\n",
       "      <td>0</td>\n",
       "      <td>0</td>\n",
       "      <td>0</td>\n",
       "      <td>0</td>\n",
       "      <td>0</td>\n",
       "      <td>0</td>\n",
       "    </tr>\n",
       "    <tr>\n",
       "      <th>4</th>\n",
       "      <td>0</td>\n",
       "      <td>2.0</td>\n",
       "      <td>0.0</td>\n",
       "      <td>9.0</td>\n",
       "      <td>0</td>\n",
       "      <td>1.57</td>\n",
       "      <td>53.98</td>\n",
       "      <td>0</td>\n",
       "      <td>0</td>\n",
       "      <td>0</td>\n",
       "      <td>...</td>\n",
       "      <td>0</td>\n",
       "      <td>0</td>\n",
       "      <td>1</td>\n",
       "      <td>1</td>\n",
       "      <td>0</td>\n",
       "      <td>0</td>\n",
       "      <td>0</td>\n",
       "      <td>0</td>\n",
       "      <td>0</td>\n",
       "      <td>0</td>\n",
       "    </tr>\n",
       "  </tbody>\n",
       "</table>\n",
       "<p>5 rows × 111 columns</p>\n",
       "</div>"
      ],
      "text/plain": [
       "   Sex  PhysicalHealthDays  MentalHealthDays  SleepHours  HadHeartAttack  \\\n",
       "0    0                 0.0               0.0         8.0               0   \n",
       "1    0                 0.0               0.0         6.0               0   \n",
       "2    0                 2.0               3.0         5.0               0   \n",
       "3    0                 0.0               0.0         7.0               0   \n",
       "4    0                 2.0               0.0         9.0               0   \n",
       "\n",
       "   HeightInMeters  WeightInKilograms  State_Alaska  State_Arizona  \\\n",
       "0            1.70              80.74             0              0   \n",
       "1            1.60              68.04             0              0   \n",
       "2            1.57              63.50             0              0   \n",
       "3            1.65              63.50             0              0   \n",
       "4            1.57              53.98             0              0   \n",
       "\n",
       "   State_Arkansas  ...  FluVaxLast12_Yes  PneumoVaxEver_No  PneumoVaxEver_Yes  \\\n",
       "0               0  ...                 1                 1                  0   \n",
       "1               0  ...                 0                 1                  0   \n",
       "2               0  ...                 0                 1                  0   \n",
       "3               0  ...                 1                 0                  1   \n",
       "4               0  ...                 0                 0                  1   \n",
       "\n",
       "   TetanusLast10Tdap_No, did not receive any tetanus shot in the past 10 years  \\\n",
       "0                                                  0                             \n",
       "1                                                  1                             \n",
       "2                                                  0                             \n",
       "3                                                  1                             \n",
       "4                                                  1                             \n",
       "\n",
       "   TetanusLast10Tdap_Yes, received Tdap  \\\n",
       "0                                     0   \n",
       "1                                     0   \n",
       "2                                     0   \n",
       "3                                     0   \n",
       "4                                     0   \n",
       "\n",
       "   TetanusLast10Tdap_Yes, received tetanus shot but not sure what type  \\\n",
       "0                                                  1                     \n",
       "1                                                  0                     \n",
       "2                                                  0                     \n",
       "3                                                  0                     \n",
       "4                                                  0                     \n",
       "\n",
       "   TetanusLast10Tdap_Yes, received tetanus shot, but not Tdap  \\\n",
       "0                                                  0            \n",
       "1                                                  0            \n",
       "2                                                  0            \n",
       "3                                                  0            \n",
       "4                                                  0            \n",
       "\n",
       "   HighRiskLastYear_Yes  \\\n",
       "0                     0   \n",
       "1                     0   \n",
       "2                     0   \n",
       "3                     0   \n",
       "4                     0   \n",
       "\n",
       "   CovidPos_Tested positive using home test without a health professional  \\\n",
       "0                                                  0                        \n",
       "1                                                  0                        \n",
       "2                                                  0                        \n",
       "3                                                  0                        \n",
       "4                                                  0                        \n",
       "\n",
       "   CovidPos_Yes  \n",
       "0             0  \n",
       "1             0  \n",
       "2             1  \n",
       "3             0  \n",
       "4             0  \n",
       "\n",
       "[5 rows x 111 columns]"
      ]
     },
     "execution_count": 2,
     "metadata": {},
     "output_type": "execute_result"
    }
   ],
   "source": [
    "#Importing data\n",
    "\n",
    "df = pd.read_csv('data/2022/cleaned_data.csv')\n",
    "df.head()"
   ]
  },
  {
   "cell_type": "markdown",
   "id": "46526dfb",
   "metadata": {},
   "source": [
    "## Train/Test Split"
   ]
  },
  {
   "cell_type": "code",
   "execution_count": 3,
   "id": "7438801d",
   "metadata": {},
   "outputs": [],
   "source": [
    "from sklearn.model_selection import train_test_split\n",
    "\n",
    "X = df.drop(columns = ['HadHeartAttack'])\n",
    "y = df['HadHeartAttack']\n",
    "\n",
    "X_train, X_test, y_train, y_test = train_test_split(X, y, test_size=0.75, random_state=2)"
   ]
  },
  {
   "cell_type": "markdown",
   "id": "2455fab4",
   "metadata": {},
   "source": [
    "## Dealing with class imbalance by downsampling"
   ]
  },
  {
   "cell_type": "markdown",
   "id": "8fc42ad9",
   "metadata": {},
   "source": [
    "From the preliminary EDA, there is a significant disparity between the number of people who reported having no heart attacks and the number of people who reported having a heart attack. This could potentially be a problem to some models as it could introduce some biases to the majority class (those who responded 'No')"
   ]
  },
  {
   "cell_type": "code",
   "execution_count": 4,
   "id": "050802a4",
   "metadata": {},
   "outputs": [
    {
     "name": "stdout",
     "output_type": "stream",
     "text": [
      "Number of class 0 examples before: 105019\n",
      "Number of class 0 examples after: 6224\n"
     ]
    }
   ],
   "source": [
    "from sklearn.utils import resample\n",
    "\n",
    "print('Number of class 0 examples before:', X_train[y_train == 0].shape[0])\n",
    "\n",
    "X_downsampled, y_downsampled = resample(X_train[y_train == 0],\n",
    "                                        y_train[y_train == 0],\n",
    "                                        replace=True,\n",
    "                                        n_samples=X_train[y_train == 1].shape[0],\n",
    "                                        random_state=123)\n",
    "\n",
    "print('Number of class 0 examples after:', X_downsampled.shape[0])\n",
    "\n",
    "# Combine upsample with original data\n",
    "X_train_bal = np.vstack((X_train[y_train == 1], X_downsampled))\n",
    "y_train_bal = np.hstack((y_train[y_train == 1], y_downsampled))\n",
    "\n",
    "# Convert the X variable numpy array into a dataframe\n",
    "X_train_bal = pd.DataFrame(X_train_bal, columns=X.columns)"
   ]
  },
  {
   "cell_type": "markdown",
   "id": "d61fcd25",
   "metadata": {},
   "source": [
    "## Using Logistic Regression Model"
   ]
  },
  {
   "cell_type": "code",
   "execution_count": 5,
   "id": "7f00d245",
   "metadata": {},
   "outputs": [
    {
     "name": "stdout",
     "output_type": "stream",
     "text": [
      "Optimization terminated successfully.\n",
      "         Current function value: 0.430749\n",
      "         Iterations 7\n"
     ]
    },
    {
     "data": {
      "text/html": [
       "<table class=\"simpletable\">\n",
       "<caption>Logit Regression Results</caption>\n",
       "<tr>\n",
       "  <th>Dep. Variable:</th>           <td>y</td>        <th>  No. Observations:  </th>  <td> 12448</td> \n",
       "</tr>\n",
       "<tr>\n",
       "  <th>Model:</th>                 <td>Logit</td>      <th>  Df Residuals:      </th>  <td> 12337</td> \n",
       "</tr>\n",
       "<tr>\n",
       "  <th>Method:</th>                 <td>MLE</td>       <th>  Df Model:          </th>  <td>   110</td> \n",
       "</tr>\n",
       "<tr>\n",
       "  <th>Date:</th>            <td>Sat, 16 Dec 2023</td> <th>  Pseudo R-squ.:     </th>  <td>0.3786</td> \n",
       "</tr>\n",
       "<tr>\n",
       "  <th>Time:</th>                <td>19:24:52</td>     <th>  Log-Likelihood:    </th> <td> -5362.0</td>\n",
       "</tr>\n",
       "<tr>\n",
       "  <th>converged:</th>             <td>True</td>       <th>  LL-Null:           </th> <td> -8628.3</td>\n",
       "</tr>\n",
       "<tr>\n",
       "  <th>Covariance Type:</th>     <td>nonrobust</td>    <th>  LLR p-value:       </th>  <td> 0.000</td> \n",
       "</tr>\n",
       "</table>\n",
       "<table class=\"simpletable\">\n",
       "<tr>\n",
       "                                       <td></td>                                          <th>coef</th>     <th>std err</th>      <th>z</th>      <th>P>|z|</th>  <th>[0.025</th>    <th>0.975]</th>  \n",
       "</tr>\n",
       "<tr>\n",
       "  <th>const</th>                                                                       <td>   -2.0177</td> <td>    0.572</td> <td>   -3.528</td> <td> 0.000</td> <td>   -3.139</td> <td>   -0.897</td>\n",
       "</tr>\n",
       "<tr>\n",
       "  <th>Sex</th>                                                                         <td>    0.7042</td> <td>    0.068</td> <td>   10.314</td> <td> 0.000</td> <td>    0.570</td> <td>    0.838</td>\n",
       "</tr>\n",
       "<tr>\n",
       "  <th>PhysicalHealthDays</th>                                                          <td>    0.0086</td> <td>    0.003</td> <td>    2.937</td> <td> 0.003</td> <td>    0.003</td> <td>    0.014</td>\n",
       "</tr>\n",
       "<tr>\n",
       "  <th>MentalHealthDays</th>                                                            <td>    0.0025</td> <td>    0.003</td> <td>    0.758</td> <td> 0.448</td> <td>   -0.004</td> <td>    0.009</td>\n",
       "</tr>\n",
       "<tr>\n",
       "  <th>SleepHours</th>                                                                  <td>   -0.0163</td> <td>    0.014</td> <td>   -1.129</td> <td> 0.259</td> <td>   -0.045</td> <td>    0.012</td>\n",
       "</tr>\n",
       "<tr>\n",
       "  <th>HeightInMeters</th>                                                              <td>   -0.2998</td> <td>    0.343</td> <td>   -0.873</td> <td> 0.383</td> <td>   -0.973</td> <td>    0.373</td>\n",
       "</tr>\n",
       "<tr>\n",
       "  <th>WeightInKilograms</th>                                                           <td>   -0.0004</td> <td>    0.001</td> <td>   -0.251</td> <td> 0.802</td> <td>   -0.003</td> <td>    0.002</td>\n",
       "</tr>\n",
       "<tr>\n",
       "  <th>State_Alaska</th>                                                                <td>    0.1701</td> <td>    0.229</td> <td>    0.744</td> <td> 0.457</td> <td>   -0.278</td> <td>    0.618</td>\n",
       "</tr>\n",
       "<tr>\n",
       "  <th>State_Arizona</th>                                                               <td>    0.2651</td> <td>    0.174</td> <td>    1.527</td> <td> 0.127</td> <td>   -0.075</td> <td>    0.605</td>\n",
       "</tr>\n",
       "<tr>\n",
       "  <th>State_Arkansas</th>                                                              <td>   -0.0453</td> <td>    0.213</td> <td>   -0.213</td> <td> 0.831</td> <td>   -0.462</td> <td>    0.372</td>\n",
       "</tr>\n",
       "<tr>\n",
       "  <th>State_California</th>                                                            <td>    0.1733</td> <td>    0.197</td> <td>    0.878</td> <td> 0.380</td> <td>   -0.214</td> <td>    0.560</td>\n",
       "</tr>\n",
       "<tr>\n",
       "  <th>State_Colorado</th>                                                              <td>    0.1924</td> <td>    0.209</td> <td>    0.919</td> <td> 0.358</td> <td>   -0.218</td> <td>    0.603</td>\n",
       "</tr>\n",
       "<tr>\n",
       "  <th>State_Connecticut</th>                                                           <td>    0.2902</td> <td>    0.197</td> <td>    1.472</td> <td> 0.141</td> <td>   -0.096</td> <td>    0.677</td>\n",
       "</tr>\n",
       "<tr>\n",
       "  <th>State_Delaware</th>                                                              <td>   -0.0417</td> <td>    0.292</td> <td>   -0.143</td> <td> 0.886</td> <td>   -0.614</td> <td>    0.530</td>\n",
       "</tr>\n",
       "<tr>\n",
       "  <th>State_District of Columbia</th>                                                  <td>    0.0819</td> <td>    0.341</td> <td>    0.240</td> <td> 0.810</td> <td>   -0.586</td> <td>    0.749</td>\n",
       "</tr>\n",
       "<tr>\n",
       "  <th>State_Florida</th>                                                               <td>    0.1299</td> <td>    0.159</td> <td>    0.819</td> <td> 0.413</td> <td>   -0.181</td> <td>    0.441</td>\n",
       "</tr>\n",
       "<tr>\n",
       "  <th>State_Georgia</th>                                                               <td>    0.2218</td> <td>    0.199</td> <td>    1.117</td> <td> 0.264</td> <td>   -0.167</td> <td>    0.611</td>\n",
       "</tr>\n",
       "<tr>\n",
       "  <th>State_Guam</th>                                                                  <td>    0.3781</td> <td>    0.331</td> <td>    1.141</td> <td> 0.254</td> <td>   -0.272</td> <td>    1.028</td>\n",
       "</tr>\n",
       "<tr>\n",
       "  <th>State_Hawaii</th>                                                                <td>    0.2047</td> <td>    0.228</td> <td>    0.898</td> <td> 0.369</td> <td>   -0.242</td> <td>    0.651</td>\n",
       "</tr>\n",
       "<tr>\n",
       "  <th>State_Idaho</th>                                                                 <td>    0.3793</td> <td>    0.228</td> <td>    1.662</td> <td> 0.096</td> <td>   -0.068</td> <td>    0.827</td>\n",
       "</tr>\n",
       "<tr>\n",
       "  <th>State_Illinois</th>                                                              <td>   -0.3670</td> <td>    0.298</td> <td>   -1.231</td> <td> 0.218</td> <td>   -0.951</td> <td>    0.217</td>\n",
       "</tr>\n",
       "<tr>\n",
       "  <th>State_Indiana</th>                                                               <td>   -0.0332</td> <td>    0.181</td> <td>   -0.184</td> <td> 0.854</td> <td>   -0.387</td> <td>    0.321</td>\n",
       "</tr>\n",
       "<tr>\n",
       "  <th>State_Iowa</th>                                                                  <td>    0.1535</td> <td>    0.203</td> <td>    0.758</td> <td> 0.449</td> <td>   -0.243</td> <td>    0.550</td>\n",
       "</tr>\n",
       "<tr>\n",
       "  <th>State_Kansas</th>                                                                <td>   -0.0005</td> <td>    0.176</td> <td>   -0.003</td> <td> 0.998</td> <td>   -0.345</td> <td>    0.344</td>\n",
       "</tr>\n",
       "<tr>\n",
       "  <th>State_Kentucky</th>                                                              <td>    0.2999</td> <td>    0.269</td> <td>    1.116</td> <td> 0.265</td> <td>   -0.227</td> <td>    0.827</td>\n",
       "</tr>\n",
       "<tr>\n",
       "  <th>State_Louisiana</th>                                                             <td>    0.2382</td> <td>    0.231</td> <td>    1.032</td> <td> 0.302</td> <td>   -0.214</td> <td>    0.690</td>\n",
       "</tr>\n",
       "<tr>\n",
       "  <th>State_Maine</th>                                                                 <td>    0.1761</td> <td>    0.173</td> <td>    1.018</td> <td> 0.309</td> <td>   -0.163</td> <td>    0.515</td>\n",
       "</tr>\n",
       "<tr>\n",
       "  <th>State_Maryland</th>                                                              <td>   -0.2122</td> <td>    0.161</td> <td>   -1.320</td> <td> 0.187</td> <td>   -0.527</td> <td>    0.103</td>\n",
       "</tr>\n",
       "<tr>\n",
       "  <th>State_Massachusetts</th>                                                         <td>    0.3635</td> <td>    0.190</td> <td>    1.917</td> <td> 0.055</td> <td>   -0.008</td> <td>    0.735</td>\n",
       "</tr>\n",
       "<tr>\n",
       "  <th>State_Michigan</th>                                                              <td>    0.1259</td> <td>    0.179</td> <td>    0.704</td> <td> 0.481</td> <td>   -0.225</td> <td>    0.476</td>\n",
       "</tr>\n",
       "<tr>\n",
       "  <th>State_Minnesota</th>                                                             <td>   -0.1248</td> <td>    0.163</td> <td>   -0.767</td> <td> 0.443</td> <td>   -0.444</td> <td>    0.194</td>\n",
       "</tr>\n",
       "<tr>\n",
       "  <th>State_Mississippi</th>                                                           <td>   -0.3852</td> <td>    0.267</td> <td>   -1.445</td> <td> 0.148</td> <td>   -0.908</td> <td>    0.137</td>\n",
       "</tr>\n",
       "<tr>\n",
       "  <th>State_Missouri</th>                                                              <td>    0.0527</td> <td>    0.207</td> <td>    0.255</td> <td> 0.799</td> <td>   -0.353</td> <td>    0.458</td>\n",
       "</tr>\n",
       "<tr>\n",
       "  <th>State_Montana</th>                                                               <td>   -0.0510</td> <td>    0.210</td> <td>   -0.243</td> <td> 0.808</td> <td>   -0.463</td> <td>    0.361</td>\n",
       "</tr>\n",
       "<tr>\n",
       "  <th>State_Nebraska</th>                                                              <td>    0.1934</td> <td>    0.205</td> <td>    0.945</td> <td> 0.345</td> <td>   -0.208</td> <td>    0.595</td>\n",
       "</tr>\n",
       "<tr>\n",
       "  <th>State_Nevada</th>                                                                <td>    0.4508</td> <td>    0.258</td> <td>    1.745</td> <td> 0.081</td> <td>   -0.056</td> <td>    0.957</td>\n",
       "</tr>\n",
       "<tr>\n",
       "  <th>State_New Hampshire</th>                                                         <td>    0.1947</td> <td>    0.206</td> <td>    0.947</td> <td> 0.344</td> <td>   -0.208</td> <td>    0.598</td>\n",
       "</tr>\n",
       "<tr>\n",
       "  <th>State_New Jersey</th>                                                            <td>   -0.0224</td> <td>    0.223</td> <td>   -0.101</td> <td> 0.920</td> <td>   -0.460</td> <td>    0.415</td>\n",
       "</tr>\n",
       "<tr>\n",
       "  <th>State_New Mexico</th>                                                            <td>    0.1413</td> <td>    0.252</td> <td>    0.561</td> <td> 0.575</td> <td>   -0.352</td> <td>    0.635</td>\n",
       "</tr>\n",
       "<tr>\n",
       "  <th>State_New York</th>                                                              <td>    0.1791</td> <td>    0.159</td> <td>    1.125</td> <td> 0.261</td> <td>   -0.133</td> <td>    0.491</td>\n",
       "</tr>\n",
       "<tr>\n",
       "  <th>State_North Carolina</th>                                                        <td>    0.1146</td> <td>    0.275</td> <td>    0.417</td> <td> 0.676</td> <td>   -0.424</td> <td>    0.653</td>\n",
       "</tr>\n",
       "<tr>\n",
       "  <th>State_North Dakota</th>                                                          <td>    0.2020</td> <td>    0.259</td> <td>    0.779</td> <td> 0.436</td> <td>   -0.306</td> <td>    0.710</td>\n",
       "</tr>\n",
       "<tr>\n",
       "  <th>State_Ohio</th>                                                                  <td>    0.0120</td> <td>    0.158</td> <td>    0.076</td> <td> 0.939</td> <td>   -0.297</td> <td>    0.321</td>\n",
       "</tr>\n",
       "<tr>\n",
       "  <th>State_Oklahoma</th>                                                              <td>    0.2589</td> <td>    0.213</td> <td>    1.216</td> <td> 0.224</td> <td>   -0.158</td> <td>    0.676</td>\n",
       "</tr>\n",
       "<tr>\n",
       "  <th>State_Oregon</th>                                                                <td>    0.0925</td> <td>    0.239</td> <td>    0.388</td> <td> 0.698</td> <td>   -0.375</td> <td>    0.560</td>\n",
       "</tr>\n",
       "<tr>\n",
       "  <th>State_Pennsylvania</th>                                                          <td>   -0.0753</td> <td>    0.267</td> <td>   -0.282</td> <td> 0.778</td> <td>   -0.599</td> <td>    0.449</td>\n",
       "</tr>\n",
       "<tr>\n",
       "  <th>State_Puerto Rico</th>                                                           <td>    0.5898</td> <td>    0.244</td> <td>    2.416</td> <td> 0.016</td> <td>    0.111</td> <td>    1.068</td>\n",
       "</tr>\n",
       "<tr>\n",
       "  <th>State_Rhode Island</th>                                                          <td>    0.2156</td> <td>    0.231</td> <td>    0.934</td> <td> 0.350</td> <td>   -0.237</td> <td>    0.668</td>\n",
       "</tr>\n",
       "<tr>\n",
       "  <th>State_South Carolina</th>                                                        <td>    0.0390</td> <td>    0.187</td> <td>    0.209</td> <td> 0.835</td> <td>   -0.327</td> <td>    0.405</td>\n",
       "</tr>\n",
       "<tr>\n",
       "  <th>State_South Dakota</th>                                                          <td>    0.3983</td> <td>    0.197</td> <td>    2.019</td> <td> 0.043</td> <td>    0.012</td> <td>    0.785</td>\n",
       "</tr>\n",
       "<tr>\n",
       "  <th>State_Tennessee</th>                                                             <td>    0.1802</td> <td>    0.232</td> <td>    0.775</td> <td> 0.438</td> <td>   -0.275</td> <td>    0.636</td>\n",
       "</tr>\n",
       "<tr>\n",
       "  <th>State_Texas</th>                                                                 <td>    0.1989</td> <td>    0.160</td> <td>    1.246</td> <td> 0.213</td> <td>   -0.114</td> <td>    0.512</td>\n",
       "</tr>\n",
       "<tr>\n",
       "  <th>State_Utah</th>                                                                  <td>    0.1495</td> <td>    0.204</td> <td>    0.732</td> <td> 0.464</td> <td>   -0.251</td> <td>    0.550</td>\n",
       "</tr>\n",
       "<tr>\n",
       "  <th>State_Vermont</th>                                                               <td>   -0.0416</td> <td>    0.206</td> <td>   -0.202</td> <td> 0.840</td> <td>   -0.446</td> <td>    0.363</td>\n",
       "</tr>\n",
       "<tr>\n",
       "  <th>State_Virgin Islands</th>                                                        <td>    0.3502</td> <td>    0.419</td> <td>    0.836</td> <td> 0.403</td> <td>   -0.471</td> <td>    1.171</td>\n",
       "</tr>\n",
       "<tr>\n",
       "  <th>State_Virginia</th>                                                              <td>    0.2457</td> <td>    0.186</td> <td>    1.320</td> <td> 0.187</td> <td>   -0.119</td> <td>    0.611</td>\n",
       "</tr>\n",
       "<tr>\n",
       "  <th>State_West Virginia</th>                                                         <td>   -0.0116</td> <td>    0.230</td> <td>   -0.050</td> <td> 0.960</td> <td>   -0.463</td> <td>    0.440</td>\n",
       "</tr>\n",
       "<tr>\n",
       "  <th>State_Wisconsin</th>                                                             <td>    0.1145</td> <td>    0.173</td> <td>    0.660</td> <td> 0.509</td> <td>   -0.225</td> <td>    0.454</td>\n",
       "</tr>\n",
       "<tr>\n",
       "  <th>State_Wyoming</th>                                                               <td>    0.1404</td> <td>    0.264</td> <td>    0.531</td> <td> 0.595</td> <td>   -0.378</td> <td>    0.659</td>\n",
       "</tr>\n",
       "<tr>\n",
       "  <th>GeneralHealth_Fair</th>                                                          <td>    0.3749</td> <td>    0.080</td> <td>    4.677</td> <td> 0.000</td> <td>    0.218</td> <td>    0.532</td>\n",
       "</tr>\n",
       "<tr>\n",
       "  <th>GeneralHealth_Good</th>                                                          <td>    0.2678</td> <td>    0.073</td> <td>    3.644</td> <td> 0.000</td> <td>    0.124</td> <td>    0.412</td>\n",
       "</tr>\n",
       "<tr>\n",
       "  <th>GeneralHealth_Very good</th>                                                     <td>    0.0513</td> <td>    0.079</td> <td>    0.647</td> <td> 0.517</td> <td>   -0.104</td> <td>    0.206</td>\n",
       "</tr>\n",
       "<tr>\n",
       "  <th>LastCheckupTime_5 or more years ago</th>                                         <td>   -0.2819</td> <td>    0.144</td> <td>   -1.951</td> <td> 0.051</td> <td>   -0.565</td> <td>    0.001</td>\n",
       "</tr>\n",
       "<tr>\n",
       "  <th>LastCheckupTime_Within past 2 years (1 year but less than 2 years ago)</th>      <td>   -0.1876</td> <td>    0.101</td> <td>   -1.856</td> <td> 0.063</td> <td>   -0.386</td> <td>    0.010</td>\n",
       "</tr>\n",
       "<tr>\n",
       "  <th>LastCheckupTime_Within past 5 years (2 years but less than 5 years ago)</th>     <td>   -0.4434</td> <td>    0.143</td> <td>   -3.111</td> <td> 0.002</td> <td>   -0.723</td> <td>   -0.164</td>\n",
       "</tr>\n",
       "<tr>\n",
       "  <th>PhysicalActivities_Yes</th>                                                      <td>   -0.1570</td> <td>    0.057</td> <td>   -2.755</td> <td> 0.006</td> <td>   -0.269</td> <td>   -0.045</td>\n",
       "</tr>\n",
       "<tr>\n",
       "  <th>RemovedTeeth_1 to 5</th>                                                         <td>    0.1056</td> <td>    0.058</td> <td>    1.831</td> <td> 0.067</td> <td>   -0.007</td> <td>    0.219</td>\n",
       "</tr>\n",
       "<tr>\n",
       "  <th>RemovedTeeth_6 or more, but not all</th>                                         <td>    0.3324</td> <td>    0.076</td> <td>    4.355</td> <td> 0.000</td> <td>    0.183</td> <td>    0.482</td>\n",
       "</tr>\n",
       "<tr>\n",
       "  <th>RemovedTeeth_All</th>                                                            <td>    0.6669</td> <td>    0.091</td> <td>    7.361</td> <td> 0.000</td> <td>    0.489</td> <td>    0.844</td>\n",
       "</tr>\n",
       "<tr>\n",
       "  <th>HadAngina_Yes</th>                                                               <td>    2.6688</td> <td>    0.079</td> <td>   33.935</td> <td> 0.000</td> <td>    2.515</td> <td>    2.823</td>\n",
       "</tr>\n",
       "<tr>\n",
       "  <th>HadStroke_Yes</th>                                                               <td>    1.3885</td> <td>    0.093</td> <td>   14.989</td> <td> 0.000</td> <td>    1.207</td> <td>    1.570</td>\n",
       "</tr>\n",
       "<tr>\n",
       "  <th>HadAsthma_Yes</th>                                                               <td>   -0.0434</td> <td>    0.070</td> <td>   -0.623</td> <td> 0.533</td> <td>   -0.180</td> <td>    0.093</td>\n",
       "</tr>\n",
       "<tr>\n",
       "  <th>HadSkinCancer_Yes</th>                                                           <td>   -0.0849</td> <td>    0.081</td> <td>   -1.045</td> <td> 0.296</td> <td>   -0.244</td> <td>    0.074</td>\n",
       "</tr>\n",
       "<tr>\n",
       "  <th>HadCOPD_Yes</th>                                                                 <td>    0.1872</td> <td>    0.078</td> <td>    2.386</td> <td> 0.017</td> <td>    0.033</td> <td>    0.341</td>\n",
       "</tr>\n",
       "<tr>\n",
       "  <th>HadDepressiveDisorder_Yes</th>                                                   <td>   -0.0768</td> <td>    0.070</td> <td>   -1.097</td> <td> 0.273</td> <td>   -0.214</td> <td>    0.060</td>\n",
       "</tr>\n",
       "<tr>\n",
       "  <th>HadKidneyDisease_Yes</th>                                                        <td>    0.4135</td> <td>    0.102</td> <td>    4.066</td> <td> 0.000</td> <td>    0.214</td> <td>    0.613</td>\n",
       "</tr>\n",
       "<tr>\n",
       "  <th>HadArthritis_Yes</th>                                                            <td>    0.2002</td> <td>    0.054</td> <td>    3.743</td> <td> 0.000</td> <td>    0.095</td> <td>    0.305</td>\n",
       "</tr>\n",
       "<tr>\n",
       "  <th>HadDiabetes_No, pre-diabetes or borderline diabetes</th>                         <td>    0.5035</td> <td>    0.143</td> <td>    3.520</td> <td> 0.000</td> <td>    0.223</td> <td>    0.784</td>\n",
       "</tr>\n",
       "<tr>\n",
       "  <th>HadDiabetes_Yes</th>                                                             <td>    0.4923</td> <td>    0.062</td> <td>    7.894</td> <td> 0.000</td> <td>    0.370</td> <td>    0.615</td>\n",
       "</tr>\n",
       "<tr>\n",
       "  <th>HadDiabetes_Yes, but only during pregnancy (female)</th>                         <td>    0.0324</td> <td>    0.331</td> <td>    0.098</td> <td> 0.922</td> <td>   -0.617</td> <td>    0.682</td>\n",
       "</tr>\n",
       "<tr>\n",
       "  <th>DeafOrHardOfHearing_Yes</th>                                                     <td>    0.1415</td> <td>    0.073</td> <td>    1.950</td> <td> 0.051</td> <td>   -0.001</td> <td>    0.284</td>\n",
       "</tr>\n",
       "<tr>\n",
       "  <th>BlindOrVisionDifficulty_Yes</th>                                                 <td>    0.1214</td> <td>    0.093</td> <td>    1.309</td> <td> 0.191</td> <td>   -0.060</td> <td>    0.303</td>\n",
       "</tr>\n",
       "<tr>\n",
       "  <th>DifficultyConcentrating_Yes</th>                                                 <td>    0.1083</td> <td>    0.082</td> <td>    1.315</td> <td> 0.189</td> <td>   -0.053</td> <td>    0.270</td>\n",
       "</tr>\n",
       "<tr>\n",
       "  <th>DifficultyWalking_Yes</th>                                                       <td>    0.2743</td> <td>    0.070</td> <td>    3.922</td> <td> 0.000</td> <td>    0.137</td> <td>    0.411</td>\n",
       "</tr>\n",
       "<tr>\n",
       "  <th>DifficultyDressingBathing_Yes</th>                                               <td>   -0.1479</td> <td>    0.116</td> <td>   -1.274</td> <td> 0.203</td> <td>   -0.375</td> <td>    0.080</td>\n",
       "</tr>\n",
       "<tr>\n",
       "  <th>DifficultyErrands_Yes</th>                                                       <td>   -0.0657</td> <td>    0.093</td> <td>   -0.704</td> <td> 0.482</td> <td>   -0.249</td> <td>    0.117</td>\n",
       "</tr>\n",
       "<tr>\n",
       "  <th>SmokerStatus_Current smoker - now smokes every day</th>                          <td>    0.3570</td> <td>    0.090</td> <td>    3.956</td> <td> 0.000</td> <td>    0.180</td> <td>    0.534</td>\n",
       "</tr>\n",
       "<tr>\n",
       "  <th>SmokerStatus_Current smoker - now smokes some days</th>                          <td>    0.2753</td> <td>    0.137</td> <td>    2.012</td> <td> 0.044</td> <td>    0.007</td> <td>    0.543</td>\n",
       "</tr>\n",
       "<tr>\n",
       "  <th>SmokerStatus_Former smoker</th>                                                  <td>    0.3030</td> <td>    0.058</td> <td>    5.246</td> <td> 0.000</td> <td>    0.190</td> <td>    0.416</td>\n",
       "</tr>\n",
       "<tr>\n",
       "  <th>ECigaretteUsage_Not at all (right now)</th>                                      <td>   -0.1723</td> <td>    0.070</td> <td>   -2.476</td> <td> 0.013</td> <td>   -0.309</td> <td>   -0.036</td>\n",
       "</tr>\n",
       "<tr>\n",
       "  <th>ECigaretteUsage_Use them every day</th>                                          <td>   -0.2680</td> <td>    0.202</td> <td>   -1.327</td> <td> 0.184</td> <td>   -0.664</td> <td>    0.128</td>\n",
       "</tr>\n",
       "<tr>\n",
       "  <th>ECigaretteUsage_Use them some days</th>                                          <td>    0.0718</td> <td>    0.167</td> <td>    0.431</td> <td> 0.667</td> <td>   -0.255</td> <td>    0.398</td>\n",
       "</tr>\n",
       "<tr>\n",
       "  <th>ChestScan_Yes</th>                                                               <td>    0.6563</td> <td>    0.053</td> <td>   12.344</td> <td> 0.000</td> <td>    0.552</td> <td>    0.760</td>\n",
       "</tr>\n",
       "<tr>\n",
       "  <th>RaceEthnicityCategory_Black only, Non-Hispanic</th>                              <td>   -0.2324</td> <td>    0.099</td> <td>   -2.339</td> <td> 0.019</td> <td>   -0.427</td> <td>   -0.038</td>\n",
       "</tr>\n",
       "<tr>\n",
       "  <th>RaceEthnicityCategory_Hispanic</th>                                              <td>   -0.1329</td> <td>    0.105</td> <td>   -1.263</td> <td> 0.206</td> <td>   -0.339</td> <td>    0.073</td>\n",
       "</tr>\n",
       "<tr>\n",
       "  <th>RaceEthnicityCategory_Multiracial, Non-Hispanic</th>                             <td>    0.2103</td> <td>    0.169</td> <td>    1.243</td> <td> 0.214</td> <td>   -0.121</td> <td>    0.542</td>\n",
       "</tr>\n",
       "<tr>\n",
       "  <th>RaceEthnicityCategory_Other race only, Non-Hispanic</th>                         <td>    0.0175</td> <td>    0.128</td> <td>    0.137</td> <td> 0.891</td> <td>   -0.232</td> <td>    0.267</td>\n",
       "</tr>\n",
       "<tr>\n",
       "  <th>AgeCategory_middle-aged</th>                                                     <td>    0.9003</td> <td>    0.089</td> <td>   10.072</td> <td> 0.000</td> <td>    0.725</td> <td>    1.075</td>\n",
       "</tr>\n",
       "<tr>\n",
       "  <th>AgeCategory_older</th>                                                           <td>    1.3106</td> <td>    0.102</td> <td>   12.856</td> <td> 0.000</td> <td>    1.111</td> <td>    1.510</td>\n",
       "</tr>\n",
       "<tr>\n",
       "  <th>AlcoholDrinkers_Yes</th>                                                         <td>   -0.1745</td> <td>    0.053</td> <td>   -3.270</td> <td> 0.001</td> <td>   -0.279</td> <td>   -0.070</td>\n",
       "</tr>\n",
       "<tr>\n",
       "  <th>HIVTesting_Yes</th>                                                              <td>   -0.0685</td> <td>    0.060</td> <td>   -1.138</td> <td> 0.255</td> <td>   -0.187</td> <td>    0.049</td>\n",
       "</tr>\n",
       "<tr>\n",
       "  <th>FluVaxLast12_Yes</th>                                                            <td>   -0.2266</td> <td>    0.056</td> <td>   -4.035</td> <td> 0.000</td> <td>   -0.337</td> <td>   -0.117</td>\n",
       "</tr>\n",
       "<tr>\n",
       "  <th>PneumoVaxEver_No</th>                                                            <td>   -0.3126</td> <td>    0.091</td> <td>   -3.446</td> <td> 0.001</td> <td>   -0.490</td> <td>   -0.135</td>\n",
       "</tr>\n",
       "<tr>\n",
       "  <th>PneumoVaxEver_Yes</th>                                                           <td>   -0.1212</td> <td>    0.094</td> <td>   -1.284</td> <td> 0.199</td> <td>   -0.306</td> <td>    0.064</td>\n",
       "</tr>\n",
       "<tr>\n",
       "  <th>TetanusLast10Tdap_No, did not receive any tetanus shot in the past 10 years</th> <td>    0.0730</td> <td>    0.087</td> <td>    0.837</td> <td> 0.403</td> <td>   -0.098</td> <td>    0.244</td>\n",
       "</tr>\n",
       "<tr>\n",
       "  <th>TetanusLast10Tdap_Yes, received Tdap</th>                                        <td>   -0.2118</td> <td>    0.095</td> <td>   -2.231</td> <td> 0.026</td> <td>   -0.398</td> <td>   -0.026</td>\n",
       "</tr>\n",
       "<tr>\n",
       "  <th>TetanusLast10Tdap_Yes, received tetanus shot but not sure what type</th>         <td>   -0.0090</td> <td>    0.088</td> <td>   -0.102</td> <td> 0.919</td> <td>   -0.181</td> <td>    0.163</td>\n",
       "</tr>\n",
       "<tr>\n",
       "  <th>TetanusLast10Tdap_Yes, received tetanus shot, but not Tdap</th>                  <td>    0.0515</td> <td>    0.119</td> <td>    0.432</td> <td> 0.666</td> <td>   -0.182</td> <td>    0.285</td>\n",
       "</tr>\n",
       "<tr>\n",
       "  <th>HighRiskLastYear_Yes</th>                                                        <td>    0.1277</td> <td>    0.154</td> <td>    0.831</td> <td> 0.406</td> <td>   -0.174</td> <td>    0.429</td>\n",
       "</tr>\n",
       "<tr>\n",
       "  <th>CovidPos_Tested positive using home test without a health professional</th>      <td>   -0.1488</td> <td>    0.174</td> <td>   -0.854</td> <td> 0.393</td> <td>   -0.490</td> <td>    0.193</td>\n",
       "</tr>\n",
       "<tr>\n",
       "  <th>CovidPos_Yes</th>                                                                <td>   -0.0668</td> <td>    0.060</td> <td>   -1.105</td> <td> 0.269</td> <td>   -0.185</td> <td>    0.052</td>\n",
       "</tr>\n",
       "</table>"
      ],
      "text/plain": [
       "<class 'statsmodels.iolib.summary.Summary'>\n",
       "\"\"\"\n",
       "                           Logit Regression Results                           \n",
       "==============================================================================\n",
       "Dep. Variable:                      y   No. Observations:                12448\n",
       "Model:                          Logit   Df Residuals:                    12337\n",
       "Method:                           MLE   Df Model:                          110\n",
       "Date:                Sat, 16 Dec 2023   Pseudo R-squ.:                  0.3786\n",
       "Time:                        19:24:52   Log-Likelihood:                -5362.0\n",
       "converged:                       True   LL-Null:                       -8628.3\n",
       "Covariance Type:            nonrobust   LLR p-value:                     0.000\n",
       "===============================================================================================================================================\n",
       "                                                                                  coef    std err          z      P>|z|      [0.025      0.975]\n",
       "-----------------------------------------------------------------------------------------------------------------------------------------------\n",
       "const                                                                          -2.0177      0.572     -3.528      0.000      -3.139      -0.897\n",
       "Sex                                                                             0.7042      0.068     10.314      0.000       0.570       0.838\n",
       "PhysicalHealthDays                                                              0.0086      0.003      2.937      0.003       0.003       0.014\n",
       "MentalHealthDays                                                                0.0025      0.003      0.758      0.448      -0.004       0.009\n",
       "SleepHours                                                                     -0.0163      0.014     -1.129      0.259      -0.045       0.012\n",
       "HeightInMeters                                                                 -0.2998      0.343     -0.873      0.383      -0.973       0.373\n",
       "WeightInKilograms                                                              -0.0004      0.001     -0.251      0.802      -0.003       0.002\n",
       "State_Alaska                                                                    0.1701      0.229      0.744      0.457      -0.278       0.618\n",
       "State_Arizona                                                                   0.2651      0.174      1.527      0.127      -0.075       0.605\n",
       "State_Arkansas                                                                 -0.0453      0.213     -0.213      0.831      -0.462       0.372\n",
       "State_California                                                                0.1733      0.197      0.878      0.380      -0.214       0.560\n",
       "State_Colorado                                                                  0.1924      0.209      0.919      0.358      -0.218       0.603\n",
       "State_Connecticut                                                               0.2902      0.197      1.472      0.141      -0.096       0.677\n",
       "State_Delaware                                                                 -0.0417      0.292     -0.143      0.886      -0.614       0.530\n",
       "State_District of Columbia                                                      0.0819      0.341      0.240      0.810      -0.586       0.749\n",
       "State_Florida                                                                   0.1299      0.159      0.819      0.413      -0.181       0.441\n",
       "State_Georgia                                                                   0.2218      0.199      1.117      0.264      -0.167       0.611\n",
       "State_Guam                                                                      0.3781      0.331      1.141      0.254      -0.272       1.028\n",
       "State_Hawaii                                                                    0.2047      0.228      0.898      0.369      -0.242       0.651\n",
       "State_Idaho                                                                     0.3793      0.228      1.662      0.096      -0.068       0.827\n",
       "State_Illinois                                                                 -0.3670      0.298     -1.231      0.218      -0.951       0.217\n",
       "State_Indiana                                                                  -0.0332      0.181     -0.184      0.854      -0.387       0.321\n",
       "State_Iowa                                                                      0.1535      0.203      0.758      0.449      -0.243       0.550\n",
       "State_Kansas                                                                   -0.0005      0.176     -0.003      0.998      -0.345       0.344\n",
       "State_Kentucky                                                                  0.2999      0.269      1.116      0.265      -0.227       0.827\n",
       "State_Louisiana                                                                 0.2382      0.231      1.032      0.302      -0.214       0.690\n",
       "State_Maine                                                                     0.1761      0.173      1.018      0.309      -0.163       0.515\n",
       "State_Maryland                                                                 -0.2122      0.161     -1.320      0.187      -0.527       0.103\n",
       "State_Massachusetts                                                             0.3635      0.190      1.917      0.055      -0.008       0.735\n",
       "State_Michigan                                                                  0.1259      0.179      0.704      0.481      -0.225       0.476\n",
       "State_Minnesota                                                                -0.1248      0.163     -0.767      0.443      -0.444       0.194\n",
       "State_Mississippi                                                              -0.3852      0.267     -1.445      0.148      -0.908       0.137\n",
       "State_Missouri                                                                  0.0527      0.207      0.255      0.799      -0.353       0.458\n",
       "State_Montana                                                                  -0.0510      0.210     -0.243      0.808      -0.463       0.361\n",
       "State_Nebraska                                                                  0.1934      0.205      0.945      0.345      -0.208       0.595\n",
       "State_Nevada                                                                    0.4508      0.258      1.745      0.081      -0.056       0.957\n",
       "State_New Hampshire                                                             0.1947      0.206      0.947      0.344      -0.208       0.598\n",
       "State_New Jersey                                                               -0.0224      0.223     -0.101      0.920      -0.460       0.415\n",
       "State_New Mexico                                                                0.1413      0.252      0.561      0.575      -0.352       0.635\n",
       "State_New York                                                                  0.1791      0.159      1.125      0.261      -0.133       0.491\n",
       "State_North Carolina                                                            0.1146      0.275      0.417      0.676      -0.424       0.653\n",
       "State_North Dakota                                                              0.2020      0.259      0.779      0.436      -0.306       0.710\n",
       "State_Ohio                                                                      0.0120      0.158      0.076      0.939      -0.297       0.321\n",
       "State_Oklahoma                                                                  0.2589      0.213      1.216      0.224      -0.158       0.676\n",
       "State_Oregon                                                                    0.0925      0.239      0.388      0.698      -0.375       0.560\n",
       "State_Pennsylvania                                                             -0.0753      0.267     -0.282      0.778      -0.599       0.449\n",
       "State_Puerto Rico                                                               0.5898      0.244      2.416      0.016       0.111       1.068\n",
       "State_Rhode Island                                                              0.2156      0.231      0.934      0.350      -0.237       0.668\n",
       "State_South Carolina                                                            0.0390      0.187      0.209      0.835      -0.327       0.405\n",
       "State_South Dakota                                                              0.3983      0.197      2.019      0.043       0.012       0.785\n",
       "State_Tennessee                                                                 0.1802      0.232      0.775      0.438      -0.275       0.636\n",
       "State_Texas                                                                     0.1989      0.160      1.246      0.213      -0.114       0.512\n",
       "State_Utah                                                                      0.1495      0.204      0.732      0.464      -0.251       0.550\n",
       "State_Vermont                                                                  -0.0416      0.206     -0.202      0.840      -0.446       0.363\n",
       "State_Virgin Islands                                                            0.3502      0.419      0.836      0.403      -0.471       1.171\n",
       "State_Virginia                                                                  0.2457      0.186      1.320      0.187      -0.119       0.611\n",
       "State_West Virginia                                                            -0.0116      0.230     -0.050      0.960      -0.463       0.440\n",
       "State_Wisconsin                                                                 0.1145      0.173      0.660      0.509      -0.225       0.454\n",
       "State_Wyoming                                                                   0.1404      0.264      0.531      0.595      -0.378       0.659\n",
       "GeneralHealth_Fair                                                              0.3749      0.080      4.677      0.000       0.218       0.532\n",
       "GeneralHealth_Good                                                              0.2678      0.073      3.644      0.000       0.124       0.412\n",
       "GeneralHealth_Very good                                                         0.0513      0.079      0.647      0.517      -0.104       0.206\n",
       "LastCheckupTime_5 or more years ago                                            -0.2819      0.144     -1.951      0.051      -0.565       0.001\n",
       "LastCheckupTime_Within past 2 years (1 year but less than 2 years ago)         -0.1876      0.101     -1.856      0.063      -0.386       0.010\n",
       "LastCheckupTime_Within past 5 years (2 years but less than 5 years ago)        -0.4434      0.143     -3.111      0.002      -0.723      -0.164\n",
       "PhysicalActivities_Yes                                                         -0.1570      0.057     -2.755      0.006      -0.269      -0.045\n",
       "RemovedTeeth_1 to 5                                                             0.1056      0.058      1.831      0.067      -0.007       0.219\n",
       "RemovedTeeth_6 or more, but not all                                             0.3324      0.076      4.355      0.000       0.183       0.482\n",
       "RemovedTeeth_All                                                                0.6669      0.091      7.361      0.000       0.489       0.844\n",
       "HadAngina_Yes                                                                   2.6688      0.079     33.935      0.000       2.515       2.823\n",
       "HadStroke_Yes                                                                   1.3885      0.093     14.989      0.000       1.207       1.570\n",
       "HadAsthma_Yes                                                                  -0.0434      0.070     -0.623      0.533      -0.180       0.093\n",
       "HadSkinCancer_Yes                                                              -0.0849      0.081     -1.045      0.296      -0.244       0.074\n",
       "HadCOPD_Yes                                                                     0.1872      0.078      2.386      0.017       0.033       0.341\n",
       "HadDepressiveDisorder_Yes                                                      -0.0768      0.070     -1.097      0.273      -0.214       0.060\n",
       "HadKidneyDisease_Yes                                                            0.4135      0.102      4.066      0.000       0.214       0.613\n",
       "HadArthritis_Yes                                                                0.2002      0.054      3.743      0.000       0.095       0.305\n",
       "HadDiabetes_No, pre-diabetes or borderline diabetes                             0.5035      0.143      3.520      0.000       0.223       0.784\n",
       "HadDiabetes_Yes                                                                 0.4923      0.062      7.894      0.000       0.370       0.615\n",
       "HadDiabetes_Yes, but only during pregnancy (female)                             0.0324      0.331      0.098      0.922      -0.617       0.682\n",
       "DeafOrHardOfHearing_Yes                                                         0.1415      0.073      1.950      0.051      -0.001       0.284\n",
       "BlindOrVisionDifficulty_Yes                                                     0.1214      0.093      1.309      0.191      -0.060       0.303\n",
       "DifficultyConcentrating_Yes                                                     0.1083      0.082      1.315      0.189      -0.053       0.270\n",
       "DifficultyWalking_Yes                                                           0.2743      0.070      3.922      0.000       0.137       0.411\n",
       "DifficultyDressingBathing_Yes                                                  -0.1479      0.116     -1.274      0.203      -0.375       0.080\n",
       "DifficultyErrands_Yes                                                          -0.0657      0.093     -0.704      0.482      -0.249       0.117\n",
       "SmokerStatus_Current smoker - now smokes every day                              0.3570      0.090      3.956      0.000       0.180       0.534\n",
       "SmokerStatus_Current smoker - now smokes some days                              0.2753      0.137      2.012      0.044       0.007       0.543\n",
       "SmokerStatus_Former smoker                                                      0.3030      0.058      5.246      0.000       0.190       0.416\n",
       "ECigaretteUsage_Not at all (right now)                                         -0.1723      0.070     -2.476      0.013      -0.309      -0.036\n",
       "ECigaretteUsage_Use them every day                                             -0.2680      0.202     -1.327      0.184      -0.664       0.128\n",
       "ECigaretteUsage_Use them some days                                              0.0718      0.167      0.431      0.667      -0.255       0.398\n",
       "ChestScan_Yes                                                                   0.6563      0.053     12.344      0.000       0.552       0.760\n",
       "RaceEthnicityCategory_Black only, Non-Hispanic                                 -0.2324      0.099     -2.339      0.019      -0.427      -0.038\n",
       "RaceEthnicityCategory_Hispanic                                                 -0.1329      0.105     -1.263      0.206      -0.339       0.073\n",
       "RaceEthnicityCategory_Multiracial, Non-Hispanic                                 0.2103      0.169      1.243      0.214      -0.121       0.542\n",
       "RaceEthnicityCategory_Other race only, Non-Hispanic                             0.0175      0.128      0.137      0.891      -0.232       0.267\n",
       "AgeCategory_middle-aged                                                         0.9003      0.089     10.072      0.000       0.725       1.075\n",
       "AgeCategory_older                                                               1.3106      0.102     12.856      0.000       1.111       1.510\n",
       "AlcoholDrinkers_Yes                                                            -0.1745      0.053     -3.270      0.001      -0.279      -0.070\n",
       "HIVTesting_Yes                                                                 -0.0685      0.060     -1.138      0.255      -0.187       0.049\n",
       "FluVaxLast12_Yes                                                               -0.2266      0.056     -4.035      0.000      -0.337      -0.117\n",
       "PneumoVaxEver_No                                                               -0.3126      0.091     -3.446      0.001      -0.490      -0.135\n",
       "PneumoVaxEver_Yes                                                              -0.1212      0.094     -1.284      0.199      -0.306       0.064\n",
       "TetanusLast10Tdap_No, did not receive any tetanus shot in the past 10 years     0.0730      0.087      0.837      0.403      -0.098       0.244\n",
       "TetanusLast10Tdap_Yes, received Tdap                                           -0.2118      0.095     -2.231      0.026      -0.398      -0.026\n",
       "TetanusLast10Tdap_Yes, received tetanus shot but not sure what type            -0.0090      0.088     -0.102      0.919      -0.181       0.163\n",
       "TetanusLast10Tdap_Yes, received tetanus shot, but not Tdap                      0.0515      0.119      0.432      0.666      -0.182       0.285\n",
       "HighRiskLastYear_Yes                                                            0.1277      0.154      0.831      0.406      -0.174       0.429\n",
       "CovidPos_Tested positive using home test without a health professional         -0.1488      0.174     -0.854      0.393      -0.490       0.193\n",
       "CovidPos_Yes                                                                   -0.0668      0.060     -1.105      0.269      -0.185       0.052\n",
       "===============================================================================================================================================\n",
       "\"\"\""
      ]
     },
     "execution_count": 5,
     "metadata": {},
     "output_type": "execute_result"
    }
   ],
   "source": [
    "#Using stats models logistic regression implementation:\n",
    "\n",
    "# adding the column of ones\n",
    "X_withconstant = sm.add_constant(X_train_bal)\n",
    " \n",
    "\n",
    "# 1. Instantiate model\n",
    "logreg = sm.Logit(y_train_bal, X_withconstant)\n",
    "\n",
    "# 2. Fit model\n",
    "#logreg_results = logreg.fit(method='bfgs', maxiter=1000)\n",
    "logreg_results = logreg.fit()\n",
    "\n",
    "# Look at summary\n",
    "logreg_results.summary()"
   ]
  },
  {
   "cell_type": "markdown",
   "id": "854d2779",
   "metadata": {},
   "source": [
    "From the results above; \n",
    "Notably the sex, Number of days where an individual's physical health was not good, the number of days where an individual's mental health was not good, the average number of sleep hours in a day, an individual's height and weight, are all significant in determining the odds ratio of an individual having a heart attack."
   ]
  },
  {
   "cell_type": "markdown",
   "id": "a85cd7d9",
   "metadata": {},
   "source": [
    "## Model Evaluation for the Logistic Regression Model"
   ]
  },
  {
   "cell_type": "markdown",
   "id": "1fe5f070",
   "metadata": {},
   "source": [
    "Finding the threshold that maximizes the True Postive Rate/the recall and minimizes the false positive rate"
   ]
  },
  {
   "cell_type": "code",
   "execution_count": 6,
   "id": "103c313c",
   "metadata": {},
   "outputs": [
    {
     "data": {
      "image/png": "[encoded data removed]",
      "text/plain": [
       "<Figure size 432x288 with 1 Axes>"
      ]
     },
     "metadata": {
      "needs_background": "light"
     },
     "output_type": "display_data"
    },
    {
     "name": "stdout",
     "output_type": "stream",
     "text": [
      "Area under curve (AUC):0.8776679793732526\n",
      "\n"
     ]
    }
   ],
   "source": [
    "from sklearn.metrics import roc_curve, roc_auc_score\n",
    "\n",
    "# getting probabiistic  predictions\n",
    "\n",
    "Xtest_withconstant = sm.add_constant(X_test)\n",
    "\n",
    "model_predictions_prob_train = logreg_results.predict(X_withconstant)\n",
    "model_predictions_prob_test = logreg_results.predict(Xtest_withconstant)\n",
    "\n",
    "fprs, tprs, thresholds = roc_curve(y_test, model_predictions_prob_test)\n",
    "roc_auc = roc_auc_score(y_test, model_predictions_prob_test)\n",
    "\n",
    "plt.figure()\n",
    "plt.plot(fprs, tprs, color='darkorange',\n",
    "         lw=2, label='AUC = %0.2f' % roc_auc)\n",
    "plt.plot([0, 1], [0, 1], color='navy', lw=2, linestyle='--')\n",
    "plt.xlabel('False Positive Rate (FPR)')\n",
    "plt.ylabel('True Positive Rate (TPR)')\n",
    "plt.title('ROC Curve for Heart Disease Prediction')\n",
    "plt.legend(loc=\"best\")\n",
    "plt.show()\n",
    "\n",
    "print(f'Area under curve (AUC):{roc_auc}')\n",
    "print()"
   ]
  },
  {
   "cell_type": "code",
   "execution_count": 7,
   "id": "83116154",
   "metadata": {},
   "outputs": [
    {
     "name": "stdout",
     "output_type": "stream",
     "text": [
      "Threshold at desired FPR (0.2): 0.44671120520276925\n",
      "TPR at desired FPR (0.2): 0.7863800042363907\n"
     ]
    }
   ],
   "source": [
    "# Specify the desired FPR \n",
    "desired_fpr = 0.2\n",
    "\n",
    "# Find the index of the point on the ROC curve closest to the desired FPR or TPR\n",
    "index_at_desired_fpr = np.argmin(np.abs(fprs - desired_fpr))\n",
    "\n",
    "# Get the corresponding threshold values\n",
    "threshold_at_desired_fpr = thresholds[index_at_desired_fpr]\n",
    "tpr_at_desired_fpr = tprs[index_at_desired_fpr]\n",
    "\n",
    "\n",
    "print(f\"Threshold at desired FPR ({desired_fpr}): {threshold_at_desired_fpr}\")\n",
    "print(f\"TPR at desired FPR ({desired_fpr}): {tpr_at_desired_fpr}\")"
   ]
  },
  {
   "cell_type": "markdown",
   "id": "5c124104",
   "metadata": {},
   "source": [
    "## Testing to determine if the above model violates the most critical assumption of a logistic regression"
   ]
  },
  {
   "cell_type": "markdown",
   "id": "fb2c2143",
   "metadata": {},
   "source": [
    "Assumption: The relationship between the logit(log-odds) of the outcome and each continuous independent variable is linear"
   ]
  },
  {
   "cell_type": "code",
   "execution_count": 8,
   "id": "4c7ddc1a",
   "metadata": {},
   "outputs": [
    {
     "data": {
      "image/png": "[encoded data removed]",
      "text/plain": [
       "<Figure size 432x288 with 1 Axes>"
      ]
     },
     "metadata": {
      "needs_background": "light"
     },
     "output_type": "display_data"
    },
    {
     "data": {
      "image/png": "[encoded data removed]",
      "text/plain": [
       "<Figure size 432x288 with 1 Axes>"
      ]
     },
     "metadata": {
      "needs_background": "light"
     },
     "output_type": "display_data"
    }
   ],
   "source": [
    "#Defining the continuous independent variables and making predictions on the test set\n",
    "\n",
    "cont_vars = ['HeightInMeters','WeightInKilograms']\n",
    "\n",
    "predicted = logreg_results.predict(Xtest_withconstant)\n",
    "\n",
    "\n",
    "#Getting log odds values\n",
    "log_odds = np.log(predicted/(1-predicted))\n",
    "\n",
    "\n",
    "#Visualizing the predictor variables vs logit values \n",
    "for var in cont_vars:\n",
    "    plt.scatter(x=Xtest_withconstant[var], y=log_odds)\n",
    "    plt.xlabel(f'{var}')\n",
    "    plt.ylabel('log-odds')\n",
    "    plt.show()"
   ]
  },
  {
   "cell_type": "markdown",
   "id": "90140607",
   "metadata": {},
   "source": [
    "The model does violate the most critical assumption of a logistic regression so the model coeficients need to be taken with a grain of salt."
   ]
  },
  {
   "cell_type": "markdown",
   "id": "39bfb5f8",
   "metadata": {},
   "source": [
    "### Applying Regularization With the Logistic Regression Model:"
   ]
  },
  {
   "cell_type": "code",
   "execution_count": 9,
   "id": "39d019b1",
   "metadata": {},
   "outputs": [
    {
     "name": "stdout",
     "output_type": "stream",
     "text": [
      "AUC score on the train set: 0.878852807321695\n"
     ]
    }
   ],
   "source": [
    "from sklearn.linear_model import LogisticRegression\n",
    "from sklearn.model_selection import GridSearchCV\n",
    "from sklearn.preprocessing import StandardScaler\n",
    "from sklearn.pipeline import Pipeline\n",
    "from sklearn.metrics import roc_auc_score\n",
    "#from sklearn.metrics import make_scorer, f1_score\n",
    "\n",
    "\n",
    "estimators = [('normalise', StandardScaler()),\n",
    "              ('logit',LogisticRegression())]\n",
    "pipe = Pipeline(estimators)\n",
    "\n",
    "params = {'logit__C': [0.0001,0.001,0.01,0.1,1,10],\n",
    "         'logit__penalty': ['l2']}\n",
    "\n",
    "#f1_scorer = make_scorer(f1_score)\n",
    "\n",
    "grid_search = GridSearchCV(pipe, param_grid=params, scoring='roc_auc')\n",
    "\n",
    "fitted_search = grid_search.fit(X_train_bal, y_train_bal)\n",
    "\n",
    "auc_trainscore = fitted_search.best_score_\n",
    "print(f\"AUC score on the train set: {auc_trainscore}\")"
   ]
  },
  {
   "cell_type": "code",
   "execution_count": 10,
   "id": "dff9ffe1",
   "metadata": {},
   "outputs": [
    {
     "data": {
      "text/plain": [
       "Pipeline(steps=[('normalise', StandardScaler()),\n",
       "                ('logit', LogisticRegression(C=0.01))])"
      ]
     },
     "execution_count": 10,
     "metadata": {},
     "output_type": "execute_result"
    }
   ],
   "source": [
    "fitted_search.best_estimator_"
   ]
  },
  {
   "cell_type": "markdown",
   "id": "a481781c",
   "metadata": {},
   "source": [
    "## Logistic Regression Model Evaluation after Regularization"
   ]
  },
  {
   "cell_type": "code",
   "execution_count": 11,
   "id": "5d9ecdf5",
   "metadata": {},
   "outputs": [
    {
     "data": {
      "image/png": "[encoded data removed]",
      "text/plain": [
       "<Figure size 432x288 with 1 Axes>"
      ]
     },
     "metadata": {
      "needs_background": "light"
     },
     "output_type": "display_data"
    },
    {
     "name": "stdout",
     "output_type": "stream",
     "text": [
      "AUC_Train:0.8847326988240232\n",
      "AUC_Test:0.8780317920703746\n"
     ]
    }
   ],
   "source": [
    "bestlog_model = fitted_search.best_estimator_\n",
    "\n",
    "y_proba_train = bestlog_model.predict_proba(X_train_bal)[:,1]\n",
    "y_proba_test = bestlog_model.predict_proba(X_test)[:,1]\n",
    "\n",
    "fprs_train, tprs_train, thresholds_train = roc_curve(y_train_bal, y_proba_train)\n",
    "fprs_test, tprs_test, thresholds_test = roc_curve(y_test, y_proba_test)\n",
    "roc_auc_train = roc_auc_score(y_train_bal, y_proba_train)\n",
    "roc_auc_test = roc_auc_score(y_test, y_proba_test)\n",
    "\n",
    "plt.figure()\n",
    "plt.plot(fprs_train, tprs_train, color='darkorange',\n",
    "         lw=2, label='AUC_Train = %0.2f' % roc_auc_train)\n",
    "plt.plot(fprs_test, tprs_test, lw=2, label='AUC_Test = %0.2f' % roc_auc_test)\n",
    "plt.plot([0, 1], [0, 1], color='navy', lw=2, linestyle='--')\n",
    "plt.xlabel('False Positive Rate (FPR)')\n",
    "plt.ylabel('True Positive Rate (TPR)')\n",
    "plt.title('ROC Curve for Heart Disease Prediction')\n",
    "plt.legend(loc=\"best\")\n",
    "plt.show()\n",
    "\n",
    "print(f'AUC_Train:{roc_auc_train}')\n",
    "print(f'AUC_Test:{roc_auc_test}')"
   ]
  },
  {
   "cell_type": "markdown",
   "id": "2f9be794",
   "metadata": {},
   "source": [
    "With a Test AUC Score of 0.88, the model doesn't improve after regularization. However it is doing well in distinguishing between individuals who have had a heart attack and individuals who haven't."
   ]
  },
  {
   "cell_type": "markdown",
   "id": "be0aea8a",
   "metadata": {},
   "source": [
    "## Using a Decision Tree Classifier"
   ]
  },
  {
   "cell_type": "code",
   "execution_count": 12,
   "id": "d8e473d4",
   "metadata": {},
   "outputs": [
    {
     "name": "stdout",
     "output_type": "stream",
     "text": [
      "AUC score on the train set: 0.8563540302819511\n"
     ]
    }
   ],
   "source": [
    "from sklearn.tree import DecisionTreeClassifier\n",
    "from tempfile import mkdtemp\n",
    "cachedir = mkdtemp()\n",
    "\n",
    "estimators = [('dt', DecisionTreeClassifier())]\n",
    "\n",
    "pipe = Pipeline(estimators, memory = cachedir)\n",
    "\n",
    "params = {'dt__max_depth': [1,2,5,7,10,20],\n",
    "         'dt__min_samples_split': [2,4,7,11,20]}\n",
    "\n",
    "grid_search = GridSearchCV(pipe, param_grid=params, scoring='roc_auc')\n",
    "\n",
    "fitted_search_dt = grid_search.fit(X_train_bal, y_train_bal)\n",
    "\n",
    "#Evaluating on the AUC score\n",
    "auc_trainscore = fitted_search_dt.best_score_\n",
    "print(f\"AUC score on the train set: {auc_trainscore}\")"
   ]
  },
  {
   "cell_type": "code",
   "execution_count": 13,
   "id": "ab16401d",
   "metadata": {},
   "outputs": [
    {
     "data": {
      "text/plain": [
       "Pipeline(memory='C:\\\\Users\\\\ROLAND~1.TET\\\\AppData\\\\Local\\\\Temp\\\\tmponw9x8n2',\n",
       "         steps=[('dt',\n",
       "                 DecisionTreeClassifier(max_depth=7, min_samples_split=20))])"
      ]
     },
     "execution_count": 13,
     "metadata": {},
     "output_type": "execute_result"
    }
   ],
   "source": [
    "fitted_search_dt.best_estimator_"
   ]
  },
  {
   "cell_type": "markdown",
   "id": "11e5b3bd",
   "metadata": {},
   "source": [
    "The best model uses a maximum depth of 7 and a minimum samples split of 20"
   ]
  },
  {
   "cell_type": "markdown",
   "id": "28964348",
   "metadata": {},
   "source": [
    "## Model Evaluation "
   ]
  },
  {
   "cell_type": "code",
   "execution_count": 14,
   "id": "daa3f0f0",
   "metadata": {},
   "outputs": [
    {
     "data": {
      "image/png": "[encoded data removed]",
      "text/plain": [
       "<Figure size 432x288 with 1 Axes>"
      ]
     },
     "metadata": {
      "needs_background": "light"
     },
     "output_type": "display_data"
    },
    {
     "name": "stdout",
     "output_type": "stream",
     "text": [
      "AUC_Train:0.8799518206536106\n",
      "AUC_Test:0.853198859150594\n"
     ]
    }
   ],
   "source": [
    "bestdt_model = fitted_search_dt.best_estimator_\n",
    "\n",
    "y_proba_train = bestdt_model.predict_proba(X_train_bal)[:,1]\n",
    "y_proba_test = bestdt_model.predict_proba(X_test)[:,1]\n",
    "\n",
    "fprs_train, tprs_train, thresholds_train = roc_curve(y_train_bal, y_proba_train)\n",
    "fprs_test, tprs_test, thresholds_test = roc_curve(y_test, y_proba_test)\n",
    "roc_auc_train = roc_auc_score(y_train_bal, y_proba_train)\n",
    "roc_auc_test = roc_auc_score(y_test, y_proba_test)\n",
    "\n",
    "plt.figure()\n",
    "plt.plot(fprs_train, tprs_train, color='darkorange',\n",
    "         lw=2, label='AUC_Train = %0.2f' % roc_auc_train)\n",
    "plt.plot(fprs_test, tprs_test, lw=2, label='AUC_Test = %0.2f' % roc_auc_test)\n",
    "plt.plot([0, 1], [0, 1], color='navy', lw=2, linestyle='--')\n",
    "plt.xlabel('False Positive Rate (FPR)')\n",
    "plt.ylabel('True Positive Rate (TPR)')\n",
    "plt.title('ROC Curve for Heart Disease Prediction')\n",
    "plt.legend(loc=\"best\")\n",
    "plt.show()\n",
    "\n",
    "print(f'AUC_Train:{roc_auc_train}')\n",
    "print(f'AUC_Test:{roc_auc_test}')"
   ]
  },
  {
   "cell_type": "markdown",
   "id": "7967ad60",
   "metadata": {},
   "source": [
    "With a Test AUC Score of 0.85, it is doing well in distinguishing between individuals who have had a heart attack and individuals who haven't."
   ]
  },
  {
   "cell_type": "code",
   "execution_count": 15,
   "id": "de3b74fe",
   "metadata": {},
   "outputs": [
    {
     "name": "stdout",
     "output_type": "stream",
     "text": [
      "Threshold at desired FPR (0.2): 0.48125\n",
      "TPR at desired FPR (0.2): 0.7589493751323872\n"
     ]
    }
   ],
   "source": [
    "# Specify the desired FPR \n",
    "desired_fpr = 0.2\n",
    "\n",
    "# Find the index of the point on the ROC curve closest to the desired FPR or TPR\n",
    "index_at_desired_fpr = np.argmin(np.abs(fprs_test - desired_fpr))\n",
    "\n",
    "# Get the corresponding threshold values\n",
    "threshold_at_desired_fpr = thresholds_test[index_at_desired_fpr]\n",
    "tpr_at_desired_fpr = tprs_test[index_at_desired_fpr]\n",
    "\n",
    "\n",
    "print(f\"Threshold at desired FPR ({desired_fpr}): {threshold_at_desired_fpr}\")\n",
    "print(f\"TPR at desired FPR ({desired_fpr}): {tpr_at_desired_fpr}\")"
   ]
  },
  {
   "cell_type": "markdown",
   "id": "38d513c0",
   "metadata": {},
   "source": [
    "## Using a Support Vector Machines Model"
   ]
  },
  {
   "cell_type": "code",
   "execution_count": 16,
   "id": "3e2427ac",
   "metadata": {},
   "outputs": [
    {
     "name": "stdout",
     "output_type": "stream",
     "text": [
      "Fitting 5 folds for each of 6 candidates, totalling 30 fits\n",
      "[CV 1/5] END linearsvm__C=0.0001, linearsvm__kernel=linear, linearsvm__probability=True; total time=  26.1s\n",
      "[CV 2/5] END linearsvm__C=0.0001, linearsvm__kernel=linear, linearsvm__probability=True; total time=  25.6s\n",
      "[CV 3/5] END linearsvm__C=0.0001, linearsvm__kernel=linear, linearsvm__probability=True; total time=  28.2s\n",
      "[CV 4/5] END linearsvm__C=0.0001, linearsvm__kernel=linear, linearsvm__probability=True; total time=  25.5s\n",
      "[CV 5/5] END linearsvm__C=0.0001, linearsvm__kernel=linear, linearsvm__probability=True; total time=  27.8s\n",
      "[CV 1/5] END linearsvm__C=0.001, linearsvm__kernel=linear, linearsvm__probability=True; total time=  20.7s\n",
      "[CV 2/5] END linearsvm__C=0.001, linearsvm__kernel=linear, linearsvm__probability=True; total time=  21.6s\n",
      "[CV 3/5] END linearsvm__C=0.001, linearsvm__kernel=linear, linearsvm__probability=True; total time=  25.1s\n",
      "[CV 4/5] END linearsvm__C=0.001, linearsvm__kernel=linear, linearsvm__probability=True; total time=  20.8s\n",
      "[CV 5/5] END linearsvm__C=0.001, linearsvm__kernel=linear, linearsvm__probability=True; total time=  20.5s\n",
      "[CV 1/5] END linearsvm__C=0.01, linearsvm__kernel=linear, linearsvm__probability=True; total time=  18.6s\n",
      "[CV 2/5] END linearsvm__C=0.01, linearsvm__kernel=linear, linearsvm__probability=True; total time=  18.2s\n",
      "[CV 3/5] END linearsvm__C=0.01, linearsvm__kernel=linear, linearsvm__probability=True; total time=  19.3s\n",
      "[CV 4/5] END linearsvm__C=0.01, linearsvm__kernel=linear, linearsvm__probability=True; total time=  23.2s\n",
      "[CV 5/5] END linearsvm__C=0.01, linearsvm__kernel=linear, linearsvm__probability=True; total time=  18.3s\n",
      "[CV 1/5] END linearsvm__C=0.1, linearsvm__kernel=linear, linearsvm__probability=True; total time=  25.5s\n",
      "[CV 2/5] END linearsvm__C=0.1, linearsvm__kernel=linear, linearsvm__probability=True; total time=  25.4s\n",
      "[CV 3/5] END linearsvm__C=0.1, linearsvm__kernel=linear, linearsvm__probability=True; total time=  27.3s\n",
      "[CV 4/5] END linearsvm__C=0.1, linearsvm__kernel=linear, linearsvm__probability=True; total time=  29.8s\n",
      "[CV 5/5] END linearsvm__C=0.1, linearsvm__kernel=linear, linearsvm__probability=True; total time=  25.5s\n",
      "[CV 1/5] END linearsvm__C=1, linearsvm__kernel=linear, linearsvm__probability=True; total time= 1.1min\n",
      "[CV 2/5] END linearsvm__C=1, linearsvm__kernel=linear, linearsvm__probability=True; total time= 1.2min\n",
      "[CV 3/5] END linearsvm__C=1, linearsvm__kernel=linear, linearsvm__probability=True; total time= 1.2min\n",
      "[CV 4/5] END linearsvm__C=1, linearsvm__kernel=linear, linearsvm__probability=True; total time= 1.1min\n",
      "[CV 5/5] END linearsvm__C=1, linearsvm__kernel=linear, linearsvm__probability=True; total time= 1.2min\n",
      "[CV 1/5] END linearsvm__C=10, linearsvm__kernel=linear, linearsvm__probability=True; total time= 6.0min\n",
      "[CV 2/5] END linearsvm__C=10, linearsvm__kernel=linear, linearsvm__probability=True; total time= 5.9min\n",
      "[CV 3/5] END linearsvm__C=10, linearsvm__kernel=linear, linearsvm__probability=True; total time= 6.1min\n",
      "[CV 4/5] END linearsvm__C=10, linearsvm__kernel=linear, linearsvm__probability=True; total time= 5.8min\n",
      "[CV 5/5] END linearsvm__C=10, linearsvm__kernel=linear, linearsvm__probability=True; total time= 6.7min\n",
      "AUC score on the train set: 0.8772235078046402\n"
     ]
    }
   ],
   "source": [
    "#With a range of c values and using a linear kernel\n",
    "\n",
    "from sklearn.svm import SVC\n",
    "\n",
    "\n",
    "estimators = [('normalise', StandardScaler()),\n",
    "              ('linearsvm', SVC())]\n",
    "pipe = Pipeline(estimators, memory = cachedir)\n",
    "\n",
    "params = {'linearsvm__C': [0.0001,0.001,0.01,0.1,1,10],\n",
    "         'linearsvm__kernel': ['linear'],\n",
    "         'linearsvm__probability': [True]}\n",
    "\n",
    "\n",
    "grid_search = GridSearchCV(pipe, param_grid=params, scoring='roc_auc', verbose=5)\n",
    "\n",
    "fitted_search_svm = grid_search.fit(X_train_bal, y_train_bal)\n",
    "\n",
    "#Evaluating on the AUC score\n",
    "auc_trainscore = fitted_search_svm.best_score_\n",
    "print(f\"AUC score on the train set: {auc_trainscore}\")"
   ]
  },
  {
   "cell_type": "code",
   "execution_count": 17,
   "id": "f341bb51",
   "metadata": {},
   "outputs": [
    {
     "data": {
      "text/plain": [
       "Pipeline(memory='C:\\\\Users\\\\ROLAND~1.TET\\\\AppData\\\\Local\\\\Temp\\\\tmponw9x8n2',\n",
       "         steps=[('normalise', StandardScaler()),\n",
       "                ('linearsvm', SVC(C=0.001, kernel='linear', probability=True))])"
      ]
     },
     "execution_count": 17,
     "metadata": {},
     "output_type": "execute_result"
    }
   ],
   "source": [
    "fitted_search_svm.best_estimator_"
   ]
  },
  {
   "cell_type": "markdown",
   "id": "d250c162",
   "metadata": {},
   "source": [
    "## Model Evaluation "
   ]
  },
  {
   "cell_type": "code",
   "execution_count": 18,
   "id": "25c8d0a0",
   "metadata": {},
   "outputs": [
    {
     "data": {
      "image/png": "[encoded data removed]",
      "text/plain": [
       "<Figure size 432x288 with 1 Axes>"
      ]
     },
     "metadata": {
      "needs_background": "light"
     },
     "output_type": "display_data"
    },
    {
     "name": "stdout",
     "output_type": "stream",
     "text": [
      "AUC_Train:0.8821563255843539\n",
      "AUC_Test:0.8766474956406813\n"
     ]
    }
   ],
   "source": [
    "bestmodel_svm = fitted_search_svm.best_estimator_\n",
    "\n",
    "y_proba_train = bestmodel_svm.predict_proba(X_train_bal)[:,1]\n",
    "y_proba_test = bestmodel_svm.predict_proba(X_test)[:,1]\n",
    "\n",
    "fprs_train, tprs_train, thresholds_train = roc_curve(y_train_bal, y_proba_train)\n",
    "fprs_test, tprs_test, thresholds_test = roc_curve(y_test, y_proba_test)\n",
    "roc_auc_train = roc_auc_score(y_train_bal, y_proba_train)\n",
    "roc_auc_test = roc_auc_score(y_test, y_proba_test)\n",
    "\n",
    "plt.figure()\n",
    "plt.plot(fprs_train, tprs_train, color='darkorange',\n",
    "         lw=2, label='AUC_Train = %0.2f' % roc_auc_train)\n",
    "plt.plot(fprs_test, tprs_test, lw=2, label='AUC_Test = %0.2f' % roc_auc_test)\n",
    "plt.plot([0, 1], [0, 1], color='navy', lw=2, linestyle='--')\n",
    "plt.xlabel('False Positive Rate (FPR)')\n",
    "plt.ylabel('True Positive Rate (TPR)')\n",
    "plt.title('ROC Curve for Heart Disease Prediction')\n",
    "plt.legend(loc=\"best\")\n",
    "plt.show()\n",
    "\n",
    "print(f'AUC_Train:{roc_auc_train}')\n",
    "print(f'AUC_Test:{roc_auc_test}')"
   ]
  },
  {
   "cell_type": "markdown",
   "id": "13b6364a",
   "metadata": {},
   "source": [
    "With a Test AUC Score of 0.88, it is doing well in distinguishing between individuals who have had a heart attack and individuals who haven't."
   ]
  },
  {
   "cell_type": "code",
   "execution_count": 19,
   "id": "366d50a3",
   "metadata": {},
   "outputs": [
    {
     "name": "stdout",
     "output_type": "stream",
     "text": [
      "Threshold at desired FPR (0.2): 0.43180679432689667\n",
      "TPR at desired FPR (0.2): 0.789133658123279\n"
     ]
    }
   ],
   "source": [
    "# Specify the desired FPR \n",
    "desired_fpr = 0.2\n",
    "\n",
    "# Find the index of the point on the ROC curve closest to the desired FPR or TPR\n",
    "index_at_desired_fpr = np.argmin(np.abs(fprs_test - desired_fpr))\n",
    "\n",
    "# Get the corresponding threshold values\n",
    "threshold_at_desired_fpr = thresholds_test[index_at_desired_fpr]\n",
    "tpr_at_desired_fpr = tprs_test[index_at_desired_fpr]\n",
    "\n",
    "\n",
    "print(f\"Threshold at desired FPR ({desired_fpr}): {threshold_at_desired_fpr}\")\n",
    "print(f\"TPR at desired FPR ({desired_fpr}): {tpr_at_desired_fpr}\")"
   ]
  },
  {
   "cell_type": "markdown",
   "id": "d3644c69",
   "metadata": {},
   "source": [
    "## Using a Random Forest Classifier"
   ]
  },
  {
   "cell_type": "code",
   "execution_count": 20,
   "id": "3e594731",
   "metadata": {},
   "outputs": [
    {
     "name": "stdout",
     "output_type": "stream",
     "text": [
      "AUC score on the train set: 0.8782486328531887\n"
     ]
    }
   ],
   "source": [
    "\n",
    "from sklearn.ensemble import RandomForestClassifier\n",
    "\n",
    "\n",
    "estimators = [('normalise', StandardScaler()),\n",
    "              ('rfc', RandomForestClassifier())]\n",
    "\n",
    "pipe = Pipeline(estimators, memory = cachedir)\n",
    "\n",
    "params = {'rfc__n_estimators': [10,20,30],\n",
    "         'rfc__max_depth': [1,2,5,7,10,20,30],\n",
    "         'rfc__min_samples_split': [2,4,7,11,20]}\n",
    "\n",
    "\n",
    "grid_search = GridSearchCV(pipe, param_grid=params, scoring='roc_auc')\n",
    "\n",
    "fitted_search_rfc = grid_search.fit(X_train_bal, y_train_bal)\n",
    "\n",
    "#Evaluating on the AUC score\n",
    "auc_trainscore = fitted_search_rfc.best_score_\n",
    "print(f\"AUC score on the train set: {auc_trainscore}\")"
   ]
  },
  {
   "cell_type": "code",
   "execution_count": 21,
   "id": "a620b94f",
   "metadata": {},
   "outputs": [
    {
     "data": {
      "text/plain": [
       "Pipeline(memory='C:\\\\Users\\\\ROLAND~1.TET\\\\AppData\\\\Local\\\\Temp\\\\tmponw9x8n2',\n",
       "         steps=[('normalise', StandardScaler()),\n",
       "                ('rfc',\n",
       "                 RandomForestClassifier(max_depth=20, min_samples_split=20,\n",
       "                                        n_estimators=30))])"
      ]
     },
     "execution_count": 21,
     "metadata": {},
     "output_type": "execute_result"
    }
   ],
   "source": [
    "fitted_search_rfc.best_estimator_"
   ]
  },
  {
   "cell_type": "code",
   "execution_count": 22,
   "id": "f23d4882",
   "metadata": {},
   "outputs": [
    {
     "data": {
      "image/png": "[encoded data removed]",
      "text/plain": [
       "<Figure size 432x288 with 1 Axes>"
      ]
     },
     "metadata": {
      "needs_background": "light"
     },
     "output_type": "display_data"
    },
    {
     "name": "stdout",
     "output_type": "stream",
     "text": [
      "AUC_Train:0.9573941736441075\n",
      "AUC_Test:0.8753437780147151\n"
     ]
    }
   ],
   "source": [
    "bestrfc_model = fitted_search_rfc.best_estimator_\n",
    "\n",
    "y_proba_train = bestrfc_model.predict_proba(X_train_bal)[:,1]\n",
    "y_proba_test = bestrfc_model.predict_proba(X_test)[:,1]\n",
    "\n",
    "fprs_train, tprs_train, thresholds_train = roc_curve(y_train_bal, y_proba_train)\n",
    "fprs_test, tprs_test, thresholds_test = roc_curve(y_test, y_proba_test)\n",
    "roc_auc_train = roc_auc_score(y_train_bal, y_proba_train)\n",
    "roc_auc_test = roc_auc_score(y_test, y_proba_test)\n",
    "\n",
    "plt.figure()\n",
    "plt.plot(fprs_train, tprs_train, color='darkorange',\n",
    "         lw=2, label='AUC_Train = %0.2f' % roc_auc_train)\n",
    "plt.plot(fprs_test, tprs_test, lw=2, label='AUC_Test = %0.2f' % roc_auc_test)\n",
    "plt.plot([0, 1], [0, 1], color='navy', lw=2, linestyle='--')\n",
    "plt.xlabel('False Positive Rate (FPR)')\n",
    "plt.ylabel('True Positive Rate (TPR)')\n",
    "plt.title('ROC Curve for Heart Disease Prediction')\n",
    "plt.legend(loc=\"best\")\n",
    "plt.show()\n",
    "\n",
    "print(f'AUC_Train:{roc_auc_train}')\n",
    "print(f'AUC_Test:{roc_auc_test}')"
   ]
  },
  {
   "cell_type": "markdown",
   "id": "96727889",
   "metadata": {},
   "source": [
    "With a Test AUC Score of 0.88, it is doing well in distinguishing between individuals who have had a heart attack and individuals who haven't."
   ]
  },
  {
   "cell_type": "code",
   "execution_count": 23,
   "id": "e9011894",
   "metadata": {},
   "outputs": [
    {
     "name": "stdout",
     "output_type": "stream",
     "text": [
      "Threshold at desired FPR (0.2): 0.521969290763284\n",
      "TPR at desired FPR (0.2): 0.7839440796441431\n"
     ]
    }
   ],
   "source": [
    "# Specify the desired FPR \n",
    "desired_fpr = 0.2\n",
    "\n",
    "# Find the index of the point on the ROC curve closest to the desired FPR or TPR\n",
    "index_at_desired_fpr = np.argmin(np.abs(fprs_test - desired_fpr))\n",
    "\n",
    "# Get the corresponding threshold values\n",
    "threshold_at_desired_fpr = thresholds_test[index_at_desired_fpr]\n",
    "tpr_at_desired_fpr = tprs_test[index_at_desired_fpr]\n",
    "\n",
    "\n",
    "print(f\"Threshold at desired FPR ({desired_fpr}): {threshold_at_desired_fpr}\")\n",
    "print(f\"TPR at desired FPR ({desired_fpr}): {tpr_at_desired_fpr}\")"
   ]
  },
  {
   "cell_type": "markdown",
   "id": "5538ee04",
   "metadata": {},
   "source": [
    "Next Steps, applying ensemble learning methods based on the best models derived from this step."
   ]
  },
  {
   "cell_type": "code",
   "execution_count": null,
   "id": "57eb2ebb",
   "metadata": {},
   "outputs": [],
   "source": []
  }
 ],
 "metadata": {
  "kernelspec": {
   "display_name": "Python 3",
   "language": "python",
   "name": "python3"
  },
  "language_info": {
   "codemirror_mode": {
    "name": "ipython",
    "version": 3
   },
   "file_extension": ".py",
   "mimetype": "text/x-python",
   "name": "python",
   "nbconvert_exporter": "python",
   "pygments_lexer": "ipython3",
   "version": "3.8.8"
  }
 },
 "nbformat": 4,
 "nbformat_minor": 5
}
