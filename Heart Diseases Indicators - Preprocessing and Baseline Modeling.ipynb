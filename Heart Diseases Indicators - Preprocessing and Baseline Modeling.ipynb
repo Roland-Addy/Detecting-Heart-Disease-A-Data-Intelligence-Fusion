{
 "cells": [
  {
   "cell_type": "markdown",
   "id": "87d0fe59",
   "metadata": {},
   "source": [
    "# Data Preprocessing and Baseline Modeling\n",
    "\n",
    "This notebook is focused on applying data preprocessing and exploring baseline models on a dataset of 2022 annual CDC survey data of 400k+ adults related to their health status.\n",
    "\n",
    "The goal is to develop an efficient machine learning model to predict an individual's propensity to having a heart disease."
   ]
  },
  {
   "cell_type": "markdown",
   "id": "fe0baeab",
   "metadata": {},
   "source": [
    "## Table of Contents\n",
    "\n",
    "1. [Data Preprocessing](#datapreprocessing)\n",
    "2. [Using a Logistic Regression Model](#logisticregression)\n",
    "3. [Using a Decision Tree Classifier](#decisiontree)\n",
    "4. [Using a Naives Bayes Classifier](#NaivesBayes)\n",
    "5. [Using a Random Forest Classifier](#rfc)"
   ]
  },
  {
   "cell_type": "code",
   "execution_count": 1,
   "id": "52bc890e",
   "metadata": {},
   "outputs": [],
   "source": [
    "#Importing required modules\n",
    "import seaborn as sns\n",
    "import numpy as np\n",
    "import matplotlib.pyplot as plt\n",
    "import pandas as pd\n",
    "import math\n",
    "#import imblearn\n",
    "\n",
    "import statsmodels.api as sm"
   ]
  },
  {
   "cell_type": "code",
   "execution_count": 2,
   "id": "6f7c605c",
   "metadata": {},
   "outputs": [
    {
     "data": {
      "text/html": [
       "<div>\n",
       "<style scoped>\n",
       "    .dataframe tbody tr th:only-of-type {\n",
       "        vertical-align: middle;\n",
       "    }\n",
       "\n",
       "    .dataframe tbody tr th {\n",
       "        vertical-align: top;\n",
       "    }\n",
       "\n",
       "    .dataframe thead th {\n",
       "        text-align: right;\n",
       "    }\n",
       "</style>\n",
       "<table border=\"1\" class=\"dataframe\">\n",
       "  <thead>\n",
       "    <tr style=\"text-align: right;\">\n",
       "      <th></th>\n",
       "      <th>Sex</th>\n",
       "      <th>PhysicalHealthDays</th>\n",
       "      <th>MentalHealthDays</th>\n",
       "      <th>SleepHours</th>\n",
       "      <th>HadHeartAttack</th>\n",
       "      <th>HeightInMeters</th>\n",
       "      <th>WeightInKilograms</th>\n",
       "      <th>State_Alaska</th>\n",
       "      <th>State_Arizona</th>\n",
       "      <th>State_Arkansas</th>\n",
       "      <th>...</th>\n",
       "      <th>FluVaxLast12_Yes</th>\n",
       "      <th>PneumoVaxEver_No</th>\n",
       "      <th>PneumoVaxEver_Yes</th>\n",
       "      <th>TetanusLast10Tdap_No, did not receive any tetanus shot in the past 10 years</th>\n",
       "      <th>TetanusLast10Tdap_Yes, received Tdap</th>\n",
       "      <th>TetanusLast10Tdap_Yes, received tetanus shot but not sure what type</th>\n",
       "      <th>TetanusLast10Tdap_Yes, received tetanus shot, but not Tdap</th>\n",
       "      <th>HighRiskLastYear_Yes</th>\n",
       "      <th>CovidPos_Tested positive using home test without a health professional</th>\n",
       "      <th>CovidPos_Yes</th>\n",
       "    </tr>\n",
       "  </thead>\n",
       "  <tbody>\n",
       "    <tr>\n",
       "      <th>0</th>\n",
       "      <td>0</td>\n",
       "      <td>0.0</td>\n",
       "      <td>0.0</td>\n",
       "      <td>8.0</td>\n",
       "      <td>0</td>\n",
       "      <td>1.70</td>\n",
       "      <td>80.74</td>\n",
       "      <td>0</td>\n",
       "      <td>0</td>\n",
       "      <td>0</td>\n",
       "      <td>...</td>\n",
       "      <td>1</td>\n",
       "      <td>1</td>\n",
       "      <td>0</td>\n",
       "      <td>0</td>\n",
       "      <td>0</td>\n",
       "      <td>1</td>\n",
       "      <td>0</td>\n",
       "      <td>0</td>\n",
       "      <td>0</td>\n",
       "      <td>0</td>\n",
       "    </tr>\n",
       "    <tr>\n",
       "      <th>1</th>\n",
       "      <td>0</td>\n",
       "      <td>0.0</td>\n",
       "      <td>0.0</td>\n",
       "      <td>6.0</td>\n",
       "      <td>0</td>\n",
       "      <td>1.60</td>\n",
       "      <td>68.04</td>\n",
       "      <td>0</td>\n",
       "      <td>0</td>\n",
       "      <td>0</td>\n",
       "      <td>...</td>\n",
       "      <td>0</td>\n",
       "      <td>1</td>\n",
       "      <td>0</td>\n",
       "      <td>1</td>\n",
       "      <td>0</td>\n",
       "      <td>0</td>\n",
       "      <td>0</td>\n",
       "      <td>0</td>\n",
       "      <td>0</td>\n",
       "      <td>0</td>\n",
       "    </tr>\n",
       "    <tr>\n",
       "      <th>2</th>\n",
       "      <td>0</td>\n",
       "      <td>2.0</td>\n",
       "      <td>3.0</td>\n",
       "      <td>5.0</td>\n",
       "      <td>0</td>\n",
       "      <td>1.57</td>\n",
       "      <td>63.50</td>\n",
       "      <td>0</td>\n",
       "      <td>0</td>\n",
       "      <td>0</td>\n",
       "      <td>...</td>\n",
       "      <td>0</td>\n",
       "      <td>1</td>\n",
       "      <td>0</td>\n",
       "      <td>0</td>\n",
       "      <td>0</td>\n",
       "      <td>0</td>\n",
       "      <td>0</td>\n",
       "      <td>0</td>\n",
       "      <td>0</td>\n",
       "      <td>1</td>\n",
       "    </tr>\n",
       "    <tr>\n",
       "      <th>3</th>\n",
       "      <td>0</td>\n",
       "      <td>0.0</td>\n",
       "      <td>0.0</td>\n",
       "      <td>7.0</td>\n",
       "      <td>0</td>\n",
       "      <td>1.65</td>\n",
       "      <td>63.50</td>\n",
       "      <td>0</td>\n",
       "      <td>0</td>\n",
       "      <td>0</td>\n",
       "      <td>...</td>\n",
       "      <td>1</td>\n",
       "      <td>0</td>\n",
       "      <td>1</td>\n",
       "      <td>1</td>\n",
       "      <td>0</td>\n",
       "      <td>0</td>\n",
       "      <td>0</td>\n",
       "      <td>0</td>\n",
       "      <td>0</td>\n",
       "      <td>0</td>\n",
       "    </tr>\n",
       "    <tr>\n",
       "      <th>4</th>\n",
       "      <td>0</td>\n",
       "      <td>2.0</td>\n",
       "      <td>0.0</td>\n",
       "      <td>9.0</td>\n",
       "      <td>0</td>\n",
       "      <td>1.57</td>\n",
       "      <td>53.98</td>\n",
       "      <td>0</td>\n",
       "      <td>0</td>\n",
       "      <td>0</td>\n",
       "      <td>...</td>\n",
       "      <td>0</td>\n",
       "      <td>0</td>\n",
       "      <td>1</td>\n",
       "      <td>1</td>\n",
       "      <td>0</td>\n",
       "      <td>0</td>\n",
       "      <td>0</td>\n",
       "      <td>0</td>\n",
       "      <td>0</td>\n",
       "      <td>0</td>\n",
       "    </tr>\n",
       "  </tbody>\n",
       "</table>\n",
       "<p>5 rows × 111 columns</p>\n",
       "</div>"
      ],
      "text/plain": [
       "   Sex  PhysicalHealthDays  MentalHealthDays  SleepHours  HadHeartAttack  \\\n",
       "0    0                 0.0               0.0         8.0               0   \n",
       "1    0                 0.0               0.0         6.0               0   \n",
       "2    0                 2.0               3.0         5.0               0   \n",
       "3    0                 0.0               0.0         7.0               0   \n",
       "4    0                 2.0               0.0         9.0               0   \n",
       "\n",
       "   HeightInMeters  WeightInKilograms  State_Alaska  State_Arizona  \\\n",
       "0            1.70              80.74             0              0   \n",
       "1            1.60              68.04             0              0   \n",
       "2            1.57              63.50             0              0   \n",
       "3            1.65              63.50             0              0   \n",
       "4            1.57              53.98             0              0   \n",
       "\n",
       "   State_Arkansas  ...  FluVaxLast12_Yes  PneumoVaxEver_No  PneumoVaxEver_Yes  \\\n",
       "0               0  ...                 1                 1                  0   \n",
       "1               0  ...                 0                 1                  0   \n",
       "2               0  ...                 0                 1                  0   \n",
       "3               0  ...                 1                 0                  1   \n",
       "4               0  ...                 0                 0                  1   \n",
       "\n",
       "   TetanusLast10Tdap_No, did not receive any tetanus shot in the past 10 years  \\\n",
       "0                                                  0                             \n",
       "1                                                  1                             \n",
       "2                                                  0                             \n",
       "3                                                  1                             \n",
       "4                                                  1                             \n",
       "\n",
       "   TetanusLast10Tdap_Yes, received Tdap  \\\n",
       "0                                     0   \n",
       "1                                     0   \n",
       "2                                     0   \n",
       "3                                     0   \n",
       "4                                     0   \n",
       "\n",
       "   TetanusLast10Tdap_Yes, received tetanus shot but not sure what type  \\\n",
       "0                                                  1                     \n",
       "1                                                  0                     \n",
       "2                                                  0                     \n",
       "3                                                  0                     \n",
       "4                                                  0                     \n",
       "\n",
       "   TetanusLast10Tdap_Yes, received tetanus shot, but not Tdap  \\\n",
       "0                                                  0            \n",
       "1                                                  0            \n",
       "2                                                  0            \n",
       "3                                                  0            \n",
       "4                                                  0            \n",
       "\n",
       "   HighRiskLastYear_Yes  \\\n",
       "0                     0   \n",
       "1                     0   \n",
       "2                     0   \n",
       "3                     0   \n",
       "4                     0   \n",
       "\n",
       "   CovidPos_Tested positive using home test without a health professional  \\\n",
       "0                                                  0                        \n",
       "1                                                  0                        \n",
       "2                                                  0                        \n",
       "3                                                  0                        \n",
       "4                                                  0                        \n",
       "\n",
       "   CovidPos_Yes  \n",
       "0             0  \n",
       "1             0  \n",
       "2             1  \n",
       "3             0  \n",
       "4             0  \n",
       "\n",
       "[5 rows x 111 columns]"
      ]
     },
     "execution_count": 2,
     "metadata": {},
     "output_type": "execute_result"
    }
   ],
   "source": [
    "#Importing data\n",
    "\n",
    "df = pd.read_csv('data/2022/cleaned_data.csv')\n",
    "df.head()"
   ]
  },
  {
   "cell_type": "markdown",
   "id": "7f161a79",
   "metadata": {},
   "source": [
    "## Data Preprocessing<a name=\"datapreprocessing\"></a>"
   ]
  },
  {
   "cell_type": "markdown",
   "id": "46526dfb",
   "metadata": {},
   "source": [
    "### Train/Test Split "
   ]
  },
  {
   "cell_type": "code",
   "execution_count": 3,
   "id": "7438801d",
   "metadata": {},
   "outputs": [],
   "source": [
    "from sklearn.model_selection import train_test_split\n",
    "\n",
    "X = df.drop(columns = ['HadHeartAttack'])\n",
    "y = df['HadHeartAttack']\n",
    "\n",
    "X_train, X_test, y_train, y_test = train_test_split(X, y, test_size=0.75, random_state=2)"
   ]
  },
  {
   "cell_type": "markdown",
   "id": "2455fab4",
   "metadata": {},
   "source": [
    "### Dealing with class imbalance by upsampling "
   ]
  },
  {
   "cell_type": "markdown",
   "id": "8fc42ad9",
   "metadata": {},
   "source": [
    "From the preliminary EDA, there is a significant disparity between the number of people who reported having no heart attacks and the number of people who reported having a heart attack. This could potentially be a problem to some models as it could introduce some biases to the majority class (those who responded 'No')"
   ]
  },
  {
   "cell_type": "code",
   "execution_count": 4,
   "id": "050802a4",
   "metadata": {},
   "outputs": [
    {
     "name": "stdout",
     "output_type": "stream",
     "text": [
      "Number of class 1 examples before: 6224\n",
      "Number of class 1 examples after: 105019\n"
     ]
    }
   ],
   "source": [
    "from sklearn.utils import resample\n",
    "\n",
    "# Upsample\n",
    "print('Number of class 1 examples before:', X_train[y_train == 1].shape[0])\n",
    "\n",
    "X_upsampled, y_upsampled = resample(X_train[y_train == 1],\n",
    "                                    y_train[y_train == 1],\n",
    "                                    replace=True,\n",
    "                                    n_samples=X_train[y_train == 0].shape[0],\n",
    "                                    random_state=123)\n",
    "\n",
    "print('Number of class 1 examples after:', X_upsampled.shape[0])\n",
    "\n",
    "#Combine upsample with original data\n",
    "X_train_bal = np.vstack((X_train[y_train == 0], X_upsampled))\n",
    "y_train_bal = np.hstack((y_train[y_train == 0], y_upsampled))\n",
    "\n",
    "#Convert the X variable numpy array into a dataframe\n",
    "X_train_bal = pd.DataFrame(X_train_bal, columns=X.columns)"
   ]
  },
  {
   "cell_type": "markdown",
   "id": "d61fcd25",
   "metadata": {},
   "source": [
    "## Using a Logistic Regression Model <a name=\"logisticregression\"></a>"
   ]
  },
  {
   "cell_type": "code",
   "execution_count": 5,
   "id": "7f00d245",
   "metadata": {},
   "outputs": [
    {
     "name": "stdout",
     "output_type": "stream",
     "text": [
      "Optimization terminated successfully.\n",
      "         Current function value: 0.431480\n",
      "         Iterations 7\n"
     ]
    },
    {
     "data": {
      "text/html": [
       "<table class=\"simpletable\">\n",
       "<caption>Logit Regression Results</caption>\n",
       "<tr>\n",
       "  <th>Dep. Variable:</th>           <td>y</td>        <th>  No. Observations:  </th>   <td>210038</td>   \n",
       "</tr>\n",
       "<tr>\n",
       "  <th>Model:</th>                 <td>Logit</td>      <th>  Df Residuals:      </th>   <td>209927</td>   \n",
       "</tr>\n",
       "<tr>\n",
       "  <th>Method:</th>                 <td>MLE</td>       <th>  Df Model:          </th>   <td>   110</td>   \n",
       "</tr>\n",
       "<tr>\n",
       "  <th>Date:</th>            <td>Fri, 02 Feb 2024</td> <th>  Pseudo R-squ.:     </th>   <td>0.3775</td>   \n",
       "</tr>\n",
       "<tr>\n",
       "  <th>Time:</th>                <td>22:29:39</td>     <th>  Log-Likelihood:    </th>  <td> -90627.</td>  \n",
       "</tr>\n",
       "<tr>\n",
       "  <th>converged:</th>             <td>True</td>       <th>  LL-Null:           </th> <td>-1.4559e+05</td>\n",
       "</tr>\n",
       "<tr>\n",
       "  <th>Covariance Type:</th>     <td>nonrobust</td>    <th>  LLR p-value:       </th>   <td> 0.000</td>   \n",
       "</tr>\n",
       "</table>\n",
       "<table class=\"simpletable\">\n",
       "<tr>\n",
       "                                       <td></td>                                          <th>coef</th>     <th>std err</th>      <th>z</th>      <th>P>|z|</th>  <th>[0.025</th>    <th>0.975]</th>  \n",
       "</tr>\n",
       "<tr>\n",
       "  <th>const</th>                                                                       <td>   -1.9257</td> <td>    0.137</td> <td>  -14.021</td> <td> 0.000</td> <td>   -2.195</td> <td>   -1.657</td>\n",
       "</tr>\n",
       "<tr>\n",
       "  <th>Sex</th>                                                                         <td>    0.7303</td> <td>    0.017</td> <td>   44.161</td> <td> 0.000</td> <td>    0.698</td> <td>    0.763</td>\n",
       "</tr>\n",
       "<tr>\n",
       "  <th>PhysicalHealthDays</th>                                                          <td>    0.0067</td> <td>    0.001</td> <td>    9.263</td> <td> 0.000</td> <td>    0.005</td> <td>    0.008</td>\n",
       "</tr>\n",
       "<tr>\n",
       "  <th>MentalHealthDays</th>                                                            <td>    0.0033</td> <td>    0.001</td> <td>    4.004</td> <td> 0.000</td> <td>    0.002</td> <td>    0.005</td>\n",
       "</tr>\n",
       "<tr>\n",
       "  <th>SleepHours</th>                                                                  <td>   -0.0122</td> <td>    0.004</td> <td>   -3.398</td> <td> 0.001</td> <td>   -0.019</td> <td>   -0.005</td>\n",
       "</tr>\n",
       "<tr>\n",
       "  <th>HeightInMeters</th>                                                              <td>   -0.3249</td> <td>    0.082</td> <td>   -3.950</td> <td> 0.000</td> <td>   -0.486</td> <td>   -0.164</td>\n",
       "</tr>\n",
       "<tr>\n",
       "  <th>WeightInKilograms</th>                                                           <td>   -0.0017</td> <td>    0.000</td> <td>   -4.838</td> <td> 0.000</td> <td>   -0.002</td> <td>   -0.001</td>\n",
       "</tr>\n",
       "<tr>\n",
       "  <th>State_Alaska</th>                                                                <td>    0.1451</td> <td>    0.055</td> <td>    2.621</td> <td> 0.009</td> <td>    0.037</td> <td>    0.254</td>\n",
       "</tr>\n",
       "<tr>\n",
       "  <th>State_Arizona</th>                                                               <td>    0.2324</td> <td>    0.042</td> <td>    5.533</td> <td> 0.000</td> <td>    0.150</td> <td>    0.315</td>\n",
       "</tr>\n",
       "<tr>\n",
       "  <th>State_Arkansas</th>                                                              <td>    0.1031</td> <td>    0.054</td> <td>    1.902</td> <td> 0.057</td> <td>   -0.003</td> <td>    0.209</td>\n",
       "</tr>\n",
       "<tr>\n",
       "  <th>State_California</th>                                                            <td>   -0.1001</td> <td>    0.048</td> <td>   -2.090</td> <td> 0.037</td> <td>   -0.194</td> <td>   -0.006</td>\n",
       "</tr>\n",
       "<tr>\n",
       "  <th>State_Colorado</th>                                                              <td>    0.0916</td> <td>    0.050</td> <td>    1.845</td> <td> 0.065</td> <td>   -0.006</td> <td>    0.189</td>\n",
       "</tr>\n",
       "<tr>\n",
       "  <th>State_Connecticut</th>                                                           <td>    0.1037</td> <td>    0.047</td> <td>    2.200</td> <td> 0.028</td> <td>    0.011</td> <td>    0.196</td>\n",
       "</tr>\n",
       "<tr>\n",
       "  <th>State_Delaware</th>                                                              <td>   -0.2949</td> <td>    0.069</td> <td>   -4.288</td> <td> 0.000</td> <td>   -0.430</td> <td>   -0.160</td>\n",
       "</tr>\n",
       "<tr>\n",
       "  <th>State_District of Columbia</th>                                                  <td>    0.1901</td> <td>    0.084</td> <td>    2.269</td> <td> 0.023</td> <td>    0.026</td> <td>    0.354</td>\n",
       "</tr>\n",
       "<tr>\n",
       "  <th>State_Florida</th>                                                               <td>    0.1702</td> <td>    0.039</td> <td>    4.352</td> <td> 0.000</td> <td>    0.094</td> <td>    0.247</td>\n",
       "</tr>\n",
       "<tr>\n",
       "  <th>State_Georgia</th>                                                               <td>   -0.0143</td> <td>    0.047</td> <td>   -0.305</td> <td> 0.760</td> <td>   -0.106</td> <td>    0.077</td>\n",
       "</tr>\n",
       "<tr>\n",
       "  <th>State_Guam</th>                                                                  <td>    0.3962</td> <td>    0.082</td> <td>    4.849</td> <td> 0.000</td> <td>    0.236</td> <td>    0.556</td>\n",
       "</tr>\n",
       "<tr>\n",
       "  <th>State_Hawaii</th>                                                                <td>   -0.0012</td> <td>    0.053</td> <td>   -0.023</td> <td> 0.982</td> <td>   -0.106</td> <td>    0.103</td>\n",
       "</tr>\n",
       "<tr>\n",
       "  <th>State_Idaho</th>                                                                 <td>    0.1680</td> <td>    0.055</td> <td>    3.070</td> <td> 0.002</td> <td>    0.061</td> <td>    0.275</td>\n",
       "</tr>\n",
       "<tr>\n",
       "  <th>State_Illinois</th>                                                              <td>   -0.2232</td> <td>    0.074</td> <td>   -3.008</td> <td> 0.003</td> <td>   -0.369</td> <td>   -0.078</td>\n",
       "</tr>\n",
       "<tr>\n",
       "  <th>State_Indiana</th>                                                               <td>    0.0213</td> <td>    0.044</td> <td>    0.486</td> <td> 0.627</td> <td>   -0.064</td> <td>    0.107</td>\n",
       "</tr>\n",
       "<tr>\n",
       "  <th>State_Iowa</th>                                                                  <td>   -0.0070</td> <td>    0.049</td> <td>   -0.142</td> <td> 0.887</td> <td>   -0.104</td> <td>    0.090</td>\n",
       "</tr>\n",
       "<tr>\n",
       "  <th>State_Kansas</th>                                                                <td>   -0.0237</td> <td>    0.044</td> <td>   -0.545</td> <td> 0.586</td> <td>   -0.109</td> <td>    0.062</td>\n",
       "</tr>\n",
       "<tr>\n",
       "  <th>State_Kentucky</th>                                                              <td>   -0.0948</td> <td>    0.063</td> <td>   -1.506</td> <td> 0.132</td> <td>   -0.218</td> <td>    0.029</td>\n",
       "</tr>\n",
       "<tr>\n",
       "  <th>State_Louisiana</th>                                                             <td>    0.0793</td> <td>    0.055</td> <td>    1.435</td> <td> 0.151</td> <td>   -0.029</td> <td>    0.188</td>\n",
       "</tr>\n",
       "<tr>\n",
       "  <th>State_Maine</th>                                                                 <td>    0.1673</td> <td>    0.042</td> <td>    3.939</td> <td> 0.000</td> <td>    0.084</td> <td>    0.251</td>\n",
       "</tr>\n",
       "<tr>\n",
       "  <th>State_Maryland</th>                                                              <td>   -0.1413</td> <td>    0.039</td> <td>   -3.578</td> <td> 0.000</td> <td>   -0.219</td> <td>   -0.064</td>\n",
       "</tr>\n",
       "<tr>\n",
       "  <th>State_Massachusetts</th>                                                         <td>    0.1763</td> <td>    0.045</td> <td>    3.885</td> <td> 0.000</td> <td>    0.087</td> <td>    0.265</td>\n",
       "</tr>\n",
       "<tr>\n",
       "  <th>State_Michigan</th>                                                              <td>    0.1696</td> <td>    0.044</td> <td>    3.873</td> <td> 0.000</td> <td>    0.084</td> <td>    0.255</td>\n",
       "</tr>\n",
       "<tr>\n",
       "  <th>State_Minnesota</th>                                                             <td>   -0.0890</td> <td>    0.040</td> <td>   -2.226</td> <td> 0.026</td> <td>   -0.167</td> <td>   -0.011</td>\n",
       "</tr>\n",
       "<tr>\n",
       "  <th>State_Mississippi</th>                                                           <td>   -0.0318</td> <td>    0.066</td> <td>   -0.483</td> <td> 0.629</td> <td>   -0.161</td> <td>    0.097</td>\n",
       "</tr>\n",
       "<tr>\n",
       "  <th>State_Missouri</th>                                                              <td>   -0.1127</td> <td>    0.051</td> <td>   -2.214</td> <td> 0.027</td> <td>   -0.213</td> <td>   -0.013</td>\n",
       "</tr>\n",
       "<tr>\n",
       "  <th>State_Montana</th>                                                               <td>    0.0907</td> <td>    0.052</td> <td>    1.739</td> <td> 0.082</td> <td>   -0.012</td> <td>    0.193</td>\n",
       "</tr>\n",
       "<tr>\n",
       "  <th>State_Nebraska</th>                                                              <td>    0.1179</td> <td>    0.049</td> <td>    2.388</td> <td> 0.017</td> <td>    0.021</td> <td>    0.215</td>\n",
       "</tr>\n",
       "<tr>\n",
       "  <th>State_Nevada</th>                                                                <td>    0.4594</td> <td>    0.063</td> <td>    7.239</td> <td> 0.000</td> <td>    0.335</td> <td>    0.584</td>\n",
       "</tr>\n",
       "<tr>\n",
       "  <th>State_New Hampshire</th>                                                         <td>    0.0664</td> <td>    0.051</td> <td>    1.297</td> <td> 0.195</td> <td>   -0.034</td> <td>    0.167</td>\n",
       "</tr>\n",
       "<tr>\n",
       "  <th>State_New Jersey</th>                                                            <td>   -0.3232</td> <td>    0.054</td> <td>   -5.983</td> <td> 0.000</td> <td>   -0.429</td> <td>   -0.217</td>\n",
       "</tr>\n",
       "<tr>\n",
       "  <th>State_New Mexico</th>                                                            <td>   -0.0028</td> <td>    0.060</td> <td>   -0.047</td> <td> 0.963</td> <td>   -0.121</td> <td>    0.115</td>\n",
       "</tr>\n",
       "<tr>\n",
       "  <th>State_New York</th>                                                              <td>   -0.0272</td> <td>    0.038</td> <td>   -0.713</td> <td> 0.476</td> <td>   -0.102</td> <td>    0.048</td>\n",
       "</tr>\n",
       "<tr>\n",
       "  <th>State_North Carolina</th>                                                        <td>    0.1110</td> <td>    0.065</td> <td>    1.718</td> <td> 0.086</td> <td>   -0.016</td> <td>    0.238</td>\n",
       "</tr>\n",
       "<tr>\n",
       "  <th>State_North Dakota</th>                                                          <td>    0.2286</td> <td>    0.064</td> <td>    3.572</td> <td> 0.000</td> <td>    0.103</td> <td>    0.354</td>\n",
       "</tr>\n",
       "<tr>\n",
       "  <th>State_Ohio</th>                                                                  <td>   -0.0347</td> <td>    0.038</td> <td>   -0.910</td> <td> 0.363</td> <td>   -0.110</td> <td>    0.040</td>\n",
       "</tr>\n",
       "<tr>\n",
       "  <th>State_Oklahoma</th>                                                              <td>    0.3059</td> <td>    0.052</td> <td>    5.828</td> <td> 0.000</td> <td>    0.203</td> <td>    0.409</td>\n",
       "</tr>\n",
       "<tr>\n",
       "  <th>State_Oregon</th>                                                                <td>   -0.0549</td> <td>    0.060</td> <td>   -0.911</td> <td> 0.362</td> <td>   -0.173</td> <td>    0.063</td>\n",
       "</tr>\n",
       "<tr>\n",
       "  <th>State_Pennsylvania</th>                                                          <td>   -0.1731</td> <td>    0.065</td> <td>   -2.664</td> <td> 0.008</td> <td>   -0.300</td> <td>   -0.046</td>\n",
       "</tr>\n",
       "<tr>\n",
       "  <th>State_Puerto Rico</th>                                                           <td>    0.4137</td> <td>    0.059</td> <td>    7.060</td> <td> 0.000</td> <td>    0.299</td> <td>    0.529</td>\n",
       "</tr>\n",
       "<tr>\n",
       "  <th>State_Rhode Island</th>                                                          <td>    0.2003</td> <td>    0.055</td> <td>    3.613</td> <td> 0.000</td> <td>    0.092</td> <td>    0.309</td>\n",
       "</tr>\n",
       "<tr>\n",
       "  <th>State_South Carolina</th>                                                        <td>   -0.0817</td> <td>    0.045</td> <td>   -1.819</td> <td> 0.069</td> <td>   -0.170</td> <td>    0.006</td>\n",
       "</tr>\n",
       "<tr>\n",
       "  <th>State_South Dakota</th>                                                          <td>    0.4823</td> <td>    0.048</td> <td>   10.005</td> <td> 0.000</td> <td>    0.388</td> <td>    0.577</td>\n",
       "</tr>\n",
       "<tr>\n",
       "  <th>State_Tennessee</th>                                                             <td>    0.1629</td> <td>    0.055</td> <td>    2.941</td> <td> 0.003</td> <td>    0.054</td> <td>    0.271</td>\n",
       "</tr>\n",
       "<tr>\n",
       "  <th>State_Texas</th>                                                                 <td>    0.2490</td> <td>    0.040</td> <td>    6.288</td> <td> 0.000</td> <td>    0.171</td> <td>    0.327</td>\n",
       "</tr>\n",
       "<tr>\n",
       "  <th>State_Utah</th>                                                                  <td>   -0.0508</td> <td>    0.049</td> <td>   -1.043</td> <td> 0.297</td> <td>   -0.146</td> <td>    0.045</td>\n",
       "</tr>\n",
       "<tr>\n",
       "  <th>State_Vermont</th>                                                               <td>   -0.0922</td> <td>    0.050</td> <td>   -1.845</td> <td> 0.065</td> <td>   -0.190</td> <td>    0.006</td>\n",
       "</tr>\n",
       "<tr>\n",
       "  <th>State_Virgin Islands</th>                                                        <td>    0.0785</td> <td>    0.101</td> <td>    0.780</td> <td> 0.435</td> <td>   -0.119</td> <td>    0.276</td>\n",
       "</tr>\n",
       "<tr>\n",
       "  <th>State_Virginia</th>                                                              <td>    0.0533</td> <td>    0.045</td> <td>    1.192</td> <td> 0.233</td> <td>   -0.034</td> <td>    0.141</td>\n",
       "</tr>\n",
       "<tr>\n",
       "  <th>State_West Virginia</th>                                                         <td>    0.0525</td> <td>    0.056</td> <td>    0.943</td> <td> 0.346</td> <td>   -0.057</td> <td>    0.162</td>\n",
       "</tr>\n",
       "<tr>\n",
       "  <th>State_Wisconsin</th>                                                             <td>    0.0444</td> <td>    0.043</td> <td>    1.040</td> <td> 0.298</td> <td>   -0.039</td> <td>    0.128</td>\n",
       "</tr>\n",
       "<tr>\n",
       "  <th>State_Wyoming</th>                                                               <td>    0.0352</td> <td>    0.064</td> <td>    0.549</td> <td> 0.583</td> <td>   -0.090</td> <td>    0.161</td>\n",
       "</tr>\n",
       "<tr>\n",
       "  <th>GeneralHealth_Fair</th>                                                          <td>    0.3808</td> <td>    0.019</td> <td>   19.535</td> <td> 0.000</td> <td>    0.343</td> <td>    0.419</td>\n",
       "</tr>\n",
       "<tr>\n",
       "  <th>GeneralHealth_Good</th>                                                          <td>    0.2594</td> <td>    0.018</td> <td>   14.524</td> <td> 0.000</td> <td>    0.224</td> <td>    0.294</td>\n",
       "</tr>\n",
       "<tr>\n",
       "  <th>GeneralHealth_Very good</th>                                                     <td>    0.0131</td> <td>    0.019</td> <td>    0.680</td> <td> 0.497</td> <td>   -0.025</td> <td>    0.051</td>\n",
       "</tr>\n",
       "<tr>\n",
       "  <th>LastCheckupTime_5 or more years ago</th>                                         <td>   -0.2442</td> <td>    0.035</td> <td>   -6.994</td> <td> 0.000</td> <td>   -0.313</td> <td>   -0.176</td>\n",
       "</tr>\n",
       "<tr>\n",
       "  <th>LastCheckupTime_Within past 2 years (1 year but less than 2 years ago)</th>      <td>   -0.2201</td> <td>    0.024</td> <td>   -9.152</td> <td> 0.000</td> <td>   -0.267</td> <td>   -0.173</td>\n",
       "</tr>\n",
       "<tr>\n",
       "  <th>LastCheckupTime_Within past 5 years (2 years but less than 5 years ago)</th>     <td>   -0.5217</td> <td>    0.035</td> <td>  -15.053</td> <td> 0.000</td> <td>   -0.590</td> <td>   -0.454</td>\n",
       "</tr>\n",
       "<tr>\n",
       "  <th>PhysicalActivities_Yes</th>                                                      <td>   -0.0970</td> <td>    0.014</td> <td>   -7.038</td> <td> 0.000</td> <td>   -0.124</td> <td>   -0.070</td>\n",
       "</tr>\n",
       "<tr>\n",
       "  <th>RemovedTeeth_1 to 5</th>                                                         <td>    0.1736</td> <td>    0.014</td> <td>   12.444</td> <td> 0.000</td> <td>    0.146</td> <td>    0.201</td>\n",
       "</tr>\n",
       "<tr>\n",
       "  <th>RemovedTeeth_6 or more, but not all</th>                                         <td>    0.3752</td> <td>    0.018</td> <td>   20.373</td> <td> 0.000</td> <td>    0.339</td> <td>    0.411</td>\n",
       "</tr>\n",
       "<tr>\n",
       "  <th>RemovedTeeth_All</th>                                                            <td>    0.6757</td> <td>    0.022</td> <td>   30.792</td> <td> 0.000</td> <td>    0.633</td> <td>    0.719</td>\n",
       "</tr>\n",
       "<tr>\n",
       "  <th>HadAngina_Yes</th>                                                               <td>    2.6560</td> <td>    0.019</td> <td>  139.319</td> <td> 0.000</td> <td>    2.619</td> <td>    2.693</td>\n",
       "</tr>\n",
       "<tr>\n",
       "  <th>HadStroke_Yes</th>                                                               <td>    1.2186</td> <td>    0.022</td> <td>   55.711</td> <td> 0.000</td> <td>    1.176</td> <td>    1.262</td>\n",
       "</tr>\n",
       "<tr>\n",
       "  <th>HadAsthma_Yes</th>                                                               <td>    0.0068</td> <td>    0.017</td> <td>    0.404</td> <td> 0.687</td> <td>   -0.026</td> <td>    0.040</td>\n",
       "</tr>\n",
       "<tr>\n",
       "  <th>HadSkinCancer_Yes</th>                                                           <td>   -0.0784</td> <td>    0.020</td> <td>   -3.914</td> <td> 0.000</td> <td>   -0.118</td> <td>   -0.039</td>\n",
       "</tr>\n",
       "<tr>\n",
       "  <th>HadCOPD_Yes</th>                                                                 <td>    0.2446</td> <td>    0.019</td> <td>   12.715</td> <td> 0.000</td> <td>    0.207</td> <td>    0.282</td>\n",
       "</tr>\n",
       "<tr>\n",
       "  <th>HadDepressiveDisorder_Yes</th>                                                   <td>   -0.0166</td> <td>    0.017</td> <td>   -0.977</td> <td> 0.329</td> <td>   -0.050</td> <td>    0.017</td>\n",
       "</tr>\n",
       "<tr>\n",
       "  <th>HadKidneyDisease_Yes</th>                                                        <td>    0.1763</td> <td>    0.023</td> <td>    7.509</td> <td> 0.000</td> <td>    0.130</td> <td>    0.222</td>\n",
       "</tr>\n",
       "<tr>\n",
       "  <th>HadArthritis_Yes</th>                                                            <td>    0.1414</td> <td>    0.013</td> <td>   10.912</td> <td> 0.000</td> <td>    0.116</td> <td>    0.167</td>\n",
       "</tr>\n",
       "<tr>\n",
       "  <th>HadDiabetes_No, pre-diabetes or borderline diabetes</th>                         <td>    0.3309</td> <td>    0.034</td> <td>    9.845</td> <td> 0.000</td> <td>    0.265</td> <td>    0.397</td>\n",
       "</tr>\n",
       "<tr>\n",
       "  <th>HadDiabetes_Yes</th>                                                             <td>    0.4949</td> <td>    0.015</td> <td>   32.605</td> <td> 0.000</td> <td>    0.465</td> <td>    0.525</td>\n",
       "</tr>\n",
       "<tr>\n",
       "  <th>HadDiabetes_Yes, but only during pregnancy (female)</th>                         <td>    0.0090</td> <td>    0.080</td> <td>    0.113</td> <td> 0.910</td> <td>   -0.147</td> <td>    0.165</td>\n",
       "</tr>\n",
       "<tr>\n",
       "  <th>DeafOrHardOfHearing_Yes</th>                                                     <td>    0.2572</td> <td>    0.018</td> <td>   14.435</td> <td> 0.000</td> <td>    0.222</td> <td>    0.292</td>\n",
       "</tr>\n",
       "<tr>\n",
       "  <th>BlindOrVisionDifficulty_Yes</th>                                                 <td>    0.2101</td> <td>    0.023</td> <td>    9.224</td> <td> 0.000</td> <td>    0.165</td> <td>    0.255</td>\n",
       "</tr>\n",
       "<tr>\n",
       "  <th>DifficultyConcentrating_Yes</th>                                                 <td>    0.0218</td> <td>    0.020</td> <td>    1.097</td> <td> 0.272</td> <td>   -0.017</td> <td>    0.061</td>\n",
       "</tr>\n",
       "<tr>\n",
       "  <th>DifficultyWalking_Yes</th>                                                       <td>    0.2587</td> <td>    0.017</td> <td>   15.229</td> <td> 0.000</td> <td>    0.225</td> <td>    0.292</td>\n",
       "</tr>\n",
       "<tr>\n",
       "  <th>DifficultyDressingBathing_Yes</th>                                               <td>   -0.1651</td> <td>    0.029</td> <td>   -5.751</td> <td> 0.000</td> <td>   -0.221</td> <td>   -0.109</td>\n",
       "</tr>\n",
       "<tr>\n",
       "  <th>DifficultyErrands_Yes</th>                                                       <td>    0.0674</td> <td>    0.023</td> <td>    2.924</td> <td> 0.003</td> <td>    0.022</td> <td>    0.113</td>\n",
       "</tr>\n",
       "<tr>\n",
       "  <th>SmokerStatus_Current smoker - now smokes every day</th>                          <td>    0.3913</td> <td>    0.022</td> <td>   17.609</td> <td> 0.000</td> <td>    0.348</td> <td>    0.435</td>\n",
       "</tr>\n",
       "<tr>\n",
       "  <th>SmokerStatus_Current smoker - now smokes some days</th>                          <td>    0.3953</td> <td>    0.033</td> <td>   11.962</td> <td> 0.000</td> <td>    0.331</td> <td>    0.460</td>\n",
       "</tr>\n",
       "<tr>\n",
       "  <th>SmokerStatus_Former smoker</th>                                                  <td>    0.3206</td> <td>    0.014</td> <td>   22.874</td> <td> 0.000</td> <td>    0.293</td> <td>    0.348</td>\n",
       "</tr>\n",
       "<tr>\n",
       "  <th>ECigaretteUsage_Not at all (right now)</th>                                      <td>   -0.1697</td> <td>    0.017</td> <td>   -9.974</td> <td> 0.000</td> <td>   -0.203</td> <td>   -0.136</td>\n",
       "</tr>\n",
       "<tr>\n",
       "  <th>ECigaretteUsage_Use them every day</th>                                          <td>   -0.1903</td> <td>    0.048</td> <td>   -3.943</td> <td> 0.000</td> <td>   -0.285</td> <td>   -0.096</td>\n",
       "</tr>\n",
       "<tr>\n",
       "  <th>ECigaretteUsage_Use them some days</th>                                          <td>    0.0153</td> <td>    0.041</td> <td>    0.370</td> <td> 0.711</td> <td>   -0.066</td> <td>    0.096</td>\n",
       "</tr>\n",
       "<tr>\n",
       "  <th>ChestScan_Yes</th>                                                               <td>    0.6199</td> <td>    0.013</td> <td>   48.309</td> <td> 0.000</td> <td>    0.595</td> <td>    0.645</td>\n",
       "</tr>\n",
       "<tr>\n",
       "  <th>RaceEthnicityCategory_Black only, Non-Hispanic</th>                              <td>   -0.2105</td> <td>    0.024</td> <td>   -8.780</td> <td> 0.000</td> <td>   -0.258</td> <td>   -0.164</td>\n",
       "</tr>\n",
       "<tr>\n",
       "  <th>RaceEthnicityCategory_Hispanic</th>                                              <td>   -0.0331</td> <td>    0.025</td> <td>   -1.311</td> <td> 0.190</td> <td>   -0.083</td> <td>    0.016</td>\n",
       "</tr>\n",
       "<tr>\n",
       "  <th>RaceEthnicityCategory_Multiracial, Non-Hispanic</th>                             <td>    0.0854</td> <td>    0.041</td> <td>    2.070</td> <td> 0.038</td> <td>    0.005</td> <td>    0.166</td>\n",
       "</tr>\n",
       "<tr>\n",
       "  <th>RaceEthnicityCategory_Other race only, Non-Hispanic</th>                         <td>   -0.0692</td> <td>    0.031</td> <td>   -2.237</td> <td> 0.025</td> <td>   -0.130</td> <td>   -0.009</td>\n",
       "</tr>\n",
       "<tr>\n",
       "  <th>AgeCategory_middle-aged</th>                                                     <td>    0.9079</td> <td>    0.022</td> <td>   42.096</td> <td> 0.000</td> <td>    0.866</td> <td>    0.950</td>\n",
       "</tr>\n",
       "<tr>\n",
       "  <th>AgeCategory_older</th>                                                           <td>    1.3423</td> <td>    0.025</td> <td>   54.582</td> <td> 0.000</td> <td>    1.294</td> <td>    1.390</td>\n",
       "</tr>\n",
       "<tr>\n",
       "  <th>AlcoholDrinkers_Yes</th>                                                         <td>   -0.2212</td> <td>    0.013</td> <td>  -17.047</td> <td> 0.000</td> <td>   -0.247</td> <td>   -0.196</td>\n",
       "</tr>\n",
       "<tr>\n",
       "  <th>HIVTesting_Yes</th>                                                              <td>   -0.1006</td> <td>    0.015</td> <td>   -6.864</td> <td> 0.000</td> <td>   -0.129</td> <td>   -0.072</td>\n",
       "</tr>\n",
       "<tr>\n",
       "  <th>FluVaxLast12_Yes</th>                                                            <td>   -0.2230</td> <td>    0.014</td> <td>  -16.346</td> <td> 0.000</td> <td>   -0.250</td> <td>   -0.196</td>\n",
       "</tr>\n",
       "<tr>\n",
       "  <th>PneumoVaxEver_No</th>                                                            <td>   -0.2174</td> <td>    0.022</td> <td>   -9.824</td> <td> 0.000</td> <td>   -0.261</td> <td>   -0.174</td>\n",
       "</tr>\n",
       "<tr>\n",
       "  <th>PneumoVaxEver_Yes</th>                                                           <td>    0.0064</td> <td>    0.023</td> <td>    0.278</td> <td> 0.781</td> <td>   -0.039</td> <td>    0.052</td>\n",
       "</tr>\n",
       "<tr>\n",
       "  <th>TetanusLast10Tdap_No, did not receive any tetanus shot in the past 10 years</th> <td>   -0.0174</td> <td>    0.021</td> <td>   -0.821</td> <td> 0.412</td> <td>   -0.059</td> <td>    0.024</td>\n",
       "</tr>\n",
       "<tr>\n",
       "  <th>TetanusLast10Tdap_Yes, received Tdap</th>                                        <td>   -0.1905</td> <td>    0.023</td> <td>   -8.255</td> <td> 0.000</td> <td>   -0.236</td> <td>   -0.145</td>\n",
       "</tr>\n",
       "<tr>\n",
       "  <th>TetanusLast10Tdap_Yes, received tetanus shot but not sure what type</th>         <td>   -0.0443</td> <td>    0.021</td> <td>   -2.078</td> <td> 0.038</td> <td>   -0.086</td> <td>   -0.003</td>\n",
       "</tr>\n",
       "<tr>\n",
       "  <th>TetanusLast10Tdap_Yes, received tetanus shot, but not Tdap</th>                  <td>   -0.0004</td> <td>    0.029</td> <td>   -0.015</td> <td> 0.988</td> <td>   -0.057</td> <td>    0.057</td>\n",
       "</tr>\n",
       "<tr>\n",
       "  <th>HighRiskLastYear_Yes</th>                                                        <td>    0.0651</td> <td>    0.036</td> <td>    1.785</td> <td> 0.074</td> <td>   -0.006</td> <td>    0.136</td>\n",
       "</tr>\n",
       "<tr>\n",
       "  <th>CovidPos_Tested positive using home test without a health professional</th>      <td>   -0.2784</td> <td>    0.041</td> <td>   -6.824</td> <td> 0.000</td> <td>   -0.358</td> <td>   -0.198</td>\n",
       "</tr>\n",
       "<tr>\n",
       "  <th>CovidPos_Yes</th>                                                                <td>   -0.0806</td> <td>    0.015</td> <td>   -5.530</td> <td> 0.000</td> <td>   -0.109</td> <td>   -0.052</td>\n",
       "</tr>\n",
       "</table>"
      ],
      "text/plain": [
       "<class 'statsmodels.iolib.summary.Summary'>\n",
       "\"\"\"\n",
       "                           Logit Regression Results                           \n",
       "==============================================================================\n",
       "Dep. Variable:                      y   No. Observations:               210038\n",
       "Model:                          Logit   Df Residuals:                   209927\n",
       "Method:                           MLE   Df Model:                          110\n",
       "Date:                Fri, 02 Feb 2024   Pseudo R-squ.:                  0.3775\n",
       "Time:                        22:29:39   Log-Likelihood:                -90627.\n",
       "converged:                       True   LL-Null:                   -1.4559e+05\n",
       "Covariance Type:            nonrobust   LLR p-value:                     0.000\n",
       "===============================================================================================================================================\n",
       "                                                                                  coef    std err          z      P>|z|      [0.025      0.975]\n",
       "-----------------------------------------------------------------------------------------------------------------------------------------------\n",
       "const                                                                          -1.9257      0.137    -14.021      0.000      -2.195      -1.657\n",
       "Sex                                                                             0.7303      0.017     44.161      0.000       0.698       0.763\n",
       "PhysicalHealthDays                                                              0.0067      0.001      9.263      0.000       0.005       0.008\n",
       "MentalHealthDays                                                                0.0033      0.001      4.004      0.000       0.002       0.005\n",
       "SleepHours                                                                     -0.0122      0.004     -3.398      0.001      -0.019      -0.005\n",
       "HeightInMeters                                                                 -0.3249      0.082     -3.950      0.000      -0.486      -0.164\n",
       "WeightInKilograms                                                              -0.0017      0.000     -4.838      0.000      -0.002      -0.001\n",
       "State_Alaska                                                                    0.1451      0.055      2.621      0.009       0.037       0.254\n",
       "State_Arizona                                                                   0.2324      0.042      5.533      0.000       0.150       0.315\n",
       "State_Arkansas                                                                  0.1031      0.054      1.902      0.057      -0.003       0.209\n",
       "State_California                                                               -0.1001      0.048     -2.090      0.037      -0.194      -0.006\n",
       "State_Colorado                                                                  0.0916      0.050      1.845      0.065      -0.006       0.189\n",
       "State_Connecticut                                                               0.1037      0.047      2.200      0.028       0.011       0.196\n",
       "State_Delaware                                                                 -0.2949      0.069     -4.288      0.000      -0.430      -0.160\n",
       "State_District of Columbia                                                      0.1901      0.084      2.269      0.023       0.026       0.354\n",
       "State_Florida                                                                   0.1702      0.039      4.352      0.000       0.094       0.247\n",
       "State_Georgia                                                                  -0.0143      0.047     -0.305      0.760      -0.106       0.077\n",
       "State_Guam                                                                      0.3962      0.082      4.849      0.000       0.236       0.556\n",
       "State_Hawaii                                                                   -0.0012      0.053     -0.023      0.982      -0.106       0.103\n",
       "State_Idaho                                                                     0.1680      0.055      3.070      0.002       0.061       0.275\n",
       "State_Illinois                                                                 -0.2232      0.074     -3.008      0.003      -0.369      -0.078\n",
       "State_Indiana                                                                   0.0213      0.044      0.486      0.627      -0.064       0.107\n",
       "State_Iowa                                                                     -0.0070      0.049     -0.142      0.887      -0.104       0.090\n",
       "State_Kansas                                                                   -0.0237      0.044     -0.545      0.586      -0.109       0.062\n",
       "State_Kentucky                                                                 -0.0948      0.063     -1.506      0.132      -0.218       0.029\n",
       "State_Louisiana                                                                 0.0793      0.055      1.435      0.151      -0.029       0.188\n",
       "State_Maine                                                                     0.1673      0.042      3.939      0.000       0.084       0.251\n",
       "State_Maryland                                                                 -0.1413      0.039     -3.578      0.000      -0.219      -0.064\n",
       "State_Massachusetts                                                             0.1763      0.045      3.885      0.000       0.087       0.265\n",
       "State_Michigan                                                                  0.1696      0.044      3.873      0.000       0.084       0.255\n",
       "State_Minnesota                                                                -0.0890      0.040     -2.226      0.026      -0.167      -0.011\n",
       "State_Mississippi                                                              -0.0318      0.066     -0.483      0.629      -0.161       0.097\n",
       "State_Missouri                                                                 -0.1127      0.051     -2.214      0.027      -0.213      -0.013\n",
       "State_Montana                                                                   0.0907      0.052      1.739      0.082      -0.012       0.193\n",
       "State_Nebraska                                                                  0.1179      0.049      2.388      0.017       0.021       0.215\n",
       "State_Nevada                                                                    0.4594      0.063      7.239      0.000       0.335       0.584\n",
       "State_New Hampshire                                                             0.0664      0.051      1.297      0.195      -0.034       0.167\n",
       "State_New Jersey                                                               -0.3232      0.054     -5.983      0.000      -0.429      -0.217\n",
       "State_New Mexico                                                               -0.0028      0.060     -0.047      0.963      -0.121       0.115\n",
       "State_New York                                                                 -0.0272      0.038     -0.713      0.476      -0.102       0.048\n",
       "State_North Carolina                                                            0.1110      0.065      1.718      0.086      -0.016       0.238\n",
       "State_North Dakota                                                              0.2286      0.064      3.572      0.000       0.103       0.354\n",
       "State_Ohio                                                                     -0.0347      0.038     -0.910      0.363      -0.110       0.040\n",
       "State_Oklahoma                                                                  0.3059      0.052      5.828      0.000       0.203       0.409\n",
       "State_Oregon                                                                   -0.0549      0.060     -0.911      0.362      -0.173       0.063\n",
       "State_Pennsylvania                                                             -0.1731      0.065     -2.664      0.008      -0.300      -0.046\n",
       "State_Puerto Rico                                                               0.4137      0.059      7.060      0.000       0.299       0.529\n",
       "State_Rhode Island                                                              0.2003      0.055      3.613      0.000       0.092       0.309\n",
       "State_South Carolina                                                           -0.0817      0.045     -1.819      0.069      -0.170       0.006\n",
       "State_South Dakota                                                              0.4823      0.048     10.005      0.000       0.388       0.577\n",
       "State_Tennessee                                                                 0.1629      0.055      2.941      0.003       0.054       0.271\n",
       "State_Texas                                                                     0.2490      0.040      6.288      0.000       0.171       0.327\n",
       "State_Utah                                                                     -0.0508      0.049     -1.043      0.297      -0.146       0.045\n",
       "State_Vermont                                                                  -0.0922      0.050     -1.845      0.065      -0.190       0.006\n",
       "State_Virgin Islands                                                            0.0785      0.101      0.780      0.435      -0.119       0.276\n",
       "State_Virginia                                                                  0.0533      0.045      1.192      0.233      -0.034       0.141\n",
       "State_West Virginia                                                             0.0525      0.056      0.943      0.346      -0.057       0.162\n",
       "State_Wisconsin                                                                 0.0444      0.043      1.040      0.298      -0.039       0.128\n",
       "State_Wyoming                                                                   0.0352      0.064      0.549      0.583      -0.090       0.161\n",
       "GeneralHealth_Fair                                                              0.3808      0.019     19.535      0.000       0.343       0.419\n",
       "GeneralHealth_Good                                                              0.2594      0.018     14.524      0.000       0.224       0.294\n",
       "GeneralHealth_Very good                                                         0.0131      0.019      0.680      0.497      -0.025       0.051\n",
       "LastCheckupTime_5 or more years ago                                            -0.2442      0.035     -6.994      0.000      -0.313      -0.176\n",
       "LastCheckupTime_Within past 2 years (1 year but less than 2 years ago)         -0.2201      0.024     -9.152      0.000      -0.267      -0.173\n",
       "LastCheckupTime_Within past 5 years (2 years but less than 5 years ago)        -0.5217      0.035    -15.053      0.000      -0.590      -0.454\n",
       "PhysicalActivities_Yes                                                         -0.0970      0.014     -7.038      0.000      -0.124      -0.070\n",
       "RemovedTeeth_1 to 5                                                             0.1736      0.014     12.444      0.000       0.146       0.201\n",
       "RemovedTeeth_6 or more, but not all                                             0.3752      0.018     20.373      0.000       0.339       0.411\n",
       "RemovedTeeth_All                                                                0.6757      0.022     30.792      0.000       0.633       0.719\n",
       "HadAngina_Yes                                                                   2.6560      0.019    139.319      0.000       2.619       2.693\n",
       "HadStroke_Yes                                                                   1.2186      0.022     55.711      0.000       1.176       1.262\n",
       "HadAsthma_Yes                                                                   0.0068      0.017      0.404      0.687      -0.026       0.040\n",
       "HadSkinCancer_Yes                                                              -0.0784      0.020     -3.914      0.000      -0.118      -0.039\n",
       "HadCOPD_Yes                                                                     0.2446      0.019     12.715      0.000       0.207       0.282\n",
       "HadDepressiveDisorder_Yes                                                      -0.0166      0.017     -0.977      0.329      -0.050       0.017\n",
       "HadKidneyDisease_Yes                                                            0.1763      0.023      7.509      0.000       0.130       0.222\n",
       "HadArthritis_Yes                                                                0.1414      0.013     10.912      0.000       0.116       0.167\n",
       "HadDiabetes_No, pre-diabetes or borderline diabetes                             0.3309      0.034      9.845      0.000       0.265       0.397\n",
       "HadDiabetes_Yes                                                                 0.4949      0.015     32.605      0.000       0.465       0.525\n",
       "HadDiabetes_Yes, but only during pregnancy (female)                             0.0090      0.080      0.113      0.910      -0.147       0.165\n",
       "DeafOrHardOfHearing_Yes                                                         0.2572      0.018     14.435      0.000       0.222       0.292\n",
       "BlindOrVisionDifficulty_Yes                                                     0.2101      0.023      9.224      0.000       0.165       0.255\n",
       "DifficultyConcentrating_Yes                                                     0.0218      0.020      1.097      0.272      -0.017       0.061\n",
       "DifficultyWalking_Yes                                                           0.2587      0.017     15.229      0.000       0.225       0.292\n",
       "DifficultyDressingBathing_Yes                                                  -0.1651      0.029     -5.751      0.000      -0.221      -0.109\n",
       "DifficultyErrands_Yes                                                           0.0674      0.023      2.924      0.003       0.022       0.113\n",
       "SmokerStatus_Current smoker - now smokes every day                              0.3913      0.022     17.609      0.000       0.348       0.435\n",
       "SmokerStatus_Current smoker - now smokes some days                              0.3953      0.033     11.962      0.000       0.331       0.460\n",
       "SmokerStatus_Former smoker                                                      0.3206      0.014     22.874      0.000       0.293       0.348\n",
       "ECigaretteUsage_Not at all (right now)                                         -0.1697      0.017     -9.974      0.000      -0.203      -0.136\n",
       "ECigaretteUsage_Use them every day                                             -0.1903      0.048     -3.943      0.000      -0.285      -0.096\n",
       "ECigaretteUsage_Use them some days                                              0.0153      0.041      0.370      0.711      -0.066       0.096\n",
       "ChestScan_Yes                                                                   0.6199      0.013     48.309      0.000       0.595       0.645\n",
       "RaceEthnicityCategory_Black only, Non-Hispanic                                 -0.2105      0.024     -8.780      0.000      -0.258      -0.164\n",
       "RaceEthnicityCategory_Hispanic                                                 -0.0331      0.025     -1.311      0.190      -0.083       0.016\n",
       "RaceEthnicityCategory_Multiracial, Non-Hispanic                                 0.0854      0.041      2.070      0.038       0.005       0.166\n",
       "RaceEthnicityCategory_Other race only, Non-Hispanic                            -0.0692      0.031     -2.237      0.025      -0.130      -0.009\n",
       "AgeCategory_middle-aged                                                         0.9079      0.022     42.096      0.000       0.866       0.950\n",
       "AgeCategory_older                                                               1.3423      0.025     54.582      0.000       1.294       1.390\n",
       "AlcoholDrinkers_Yes                                                            -0.2212      0.013    -17.047      0.000      -0.247      -0.196\n",
       "HIVTesting_Yes                                                                 -0.1006      0.015     -6.864      0.000      -0.129      -0.072\n",
       "FluVaxLast12_Yes                                                               -0.2230      0.014    -16.346      0.000      -0.250      -0.196\n",
       "PneumoVaxEver_No                                                               -0.2174      0.022     -9.824      0.000      -0.261      -0.174\n",
       "PneumoVaxEver_Yes                                                               0.0064      0.023      0.278      0.781      -0.039       0.052\n",
       "TetanusLast10Tdap_No, did not receive any tetanus shot in the past 10 years    -0.0174      0.021     -0.821      0.412      -0.059       0.024\n",
       "TetanusLast10Tdap_Yes, received Tdap                                           -0.1905      0.023     -8.255      0.000      -0.236      -0.145\n",
       "TetanusLast10Tdap_Yes, received tetanus shot but not sure what type            -0.0443      0.021     -2.078      0.038      -0.086      -0.003\n",
       "TetanusLast10Tdap_Yes, received tetanus shot, but not Tdap                     -0.0004      0.029     -0.015      0.988      -0.057       0.057\n",
       "HighRiskLastYear_Yes                                                            0.0651      0.036      1.785      0.074      -0.006       0.136\n",
       "CovidPos_Tested positive using home test without a health professional         -0.2784      0.041     -6.824      0.000      -0.358      -0.198\n",
       "CovidPos_Yes                                                                   -0.0806      0.015     -5.530      0.000      -0.109      -0.052\n",
       "===============================================================================================================================================\n",
       "\"\"\""
      ]
     },
     "execution_count": 5,
     "metadata": {},
     "output_type": "execute_result"
    }
   ],
   "source": [
    "#Using stats models logistic regression implementation:\n",
    "\n",
    "# adding the column of ones\n",
    "X_withconstant = sm.add_constant(X_train_bal)\n",
    " \n",
    "\n",
    "# 1. Instantiate model\n",
    "logreg = sm.Logit(y_train_bal, X_withconstant)\n",
    "\n",
    "# 2. Fit model\n",
    "#logreg_results = logreg.fit(method='bfgs', maxiter=1000)\n",
    "logreg_results = logreg.fit()\n",
    "\n",
    "# Look at summary\n",
    "logreg_results.summary()"
   ]
  },
  {
   "cell_type": "markdown",
   "id": "854d2779",
   "metadata": {},
   "source": [
    "From the results above; \n",
    "Notably the sex, Number of days where an individual's physical health was not good, the number of days where an individual's mental health was not good, the average number of sleep hours in a day, an individual's height and weight, are all significant in determining the odds ratio of an individual having a heart attack."
   ]
  },
  {
   "cell_type": "markdown",
   "id": "a85cd7d9",
   "metadata": {},
   "source": [
    "### Model Evaluation for the Logistic Regression Model"
   ]
  },
  {
   "cell_type": "markdown",
   "id": "1fe5f070",
   "metadata": {},
   "source": [
    "Finding the threshold that maximizes the True Postive Rate/the recall and minimizes the false positive rate"
   ]
  },
  {
   "cell_type": "code",
   "execution_count": 6,
   "id": "103c313c",
   "metadata": {},
   "outputs": [
    {
     "data": {
      "image/png": "[encoded data removed]",
      "text/plain": [
       "<Figure size 432x288 with 1 Axes>"
      ]
     },
     "metadata": {
      "needs_background": "light"
     },
     "output_type": "display_data"
    },
    {
     "name": "stdout",
     "output_type": "stream",
     "text": [
      "Area under curve (AUC):0.8783540036790753\n",
      "\n"
     ]
    }
   ],
   "source": [
    "from sklearn.metrics import roc_curve, roc_auc_score\n",
    "\n",
    "# getting probabiistic  predictions\n",
    "\n",
    "Xtest_withconstant = sm.add_constant(X_test)\n",
    "\n",
    "model_predictions_prob_test = logreg_results.predict(Xtest_withconstant)\n",
    "\n",
    "fprs, tprs, thresholds = roc_curve(y_test, model_predictions_prob_test)\n",
    "roc_auc = roc_auc_score(y_test, model_predictions_prob_test)\n",
    "\n",
    "plt.figure()\n",
    "plt.plot(fprs, tprs, color='darkorange',\n",
    "         lw=2, label='AUC = %0.2f' % roc_auc)\n",
    "plt.plot([0, 1], [0, 1], color='navy', lw=2, linestyle='--')\n",
    "plt.xlabel('False Positive Rate (FPR)')\n",
    "plt.ylabel('True Positive Rate (TPR)')\n",
    "plt.title('ROC Curve for Heart Disease Prediction')\n",
    "plt.legend(loc=\"best\")\n",
    "plt.show()\n",
    "\n",
    "print(f'Area under curve (AUC):{roc_auc}')\n",
    "print()"
   ]
  },
  {
   "cell_type": "code",
   "execution_count": 7,
   "id": "83116154",
   "metadata": {},
   "outputs": [
    {
     "name": "stdout",
     "output_type": "stream",
     "text": [
      "Threshold at desired FPR (0.2): 0.44792443748279154\n",
      "TPR at desired FPR (0.2): 0.7877568311798347\n"
     ]
    }
   ],
   "source": [
    "# Specify the desired FPR \n",
    "desired_fpr = 0.2\n",
    "\n",
    "# Find the index of the point on the ROC curve closest to the desired FPR or TPR\n",
    "index_at_desired_fpr = np.argmin(np.abs(fprs - desired_fpr))\n",
    "\n",
    "# Get the corresponding threshold values\n",
    "threshold_at_desired_fpr = thresholds[index_at_desired_fpr]\n",
    "tpr_at_desired_fpr = tprs[index_at_desired_fpr]\n",
    "\n",
    "\n",
    "print(f\"Threshold at desired FPR ({desired_fpr}): {threshold_at_desired_fpr}\")\n",
    "print(f\"TPR at desired FPR ({desired_fpr}): {tpr_at_desired_fpr}\")"
   ]
  },
  {
   "cell_type": "markdown",
   "id": "5c124104",
   "metadata": {},
   "source": [
    "### Testing to determine if the above model violates the most critical assumption of a logistic regression"
   ]
  },
  {
   "cell_type": "markdown",
   "id": "fb2c2143",
   "metadata": {},
   "source": [
    "Assumption: The relationship between the logit(log-odds) of the outcome and each continuous independent variable is linear"
   ]
  },
  {
   "cell_type": "code",
   "execution_count": 8,
   "id": "4c7ddc1a",
   "metadata": {},
   "outputs": [
    {
     "data": {
      "image/png": "[encoded data removed]",
      "text/plain": [
       "<Figure size 432x288 with 1 Axes>"
      ]
     },
     "metadata": {
      "needs_background": "light"
     },
     "output_type": "display_data"
    },
    {
     "data": {
      "image/png": "[encoded data removed]",
      "text/plain": [
       "<Figure size 432x288 with 1 Axes>"
      ]
     },
     "metadata": {
      "needs_background": "light"
     },
     "output_type": "display_data"
    }
   ],
   "source": [
    "#Defining the continuous independent variables and making predictions on the test set\n",
    "\n",
    "cont_vars = ['HeightInMeters','WeightInKilograms']\n",
    "\n",
    "predicted = logreg_results.predict(Xtest_withconstant)\n",
    "\n",
    "\n",
    "#Getting log odds values\n",
    "log_odds = np.log(predicted/(1-predicted))\n",
    "\n",
    "\n",
    "#Visualizing the predictor variables vs logit values \n",
    "for var in cont_vars:\n",
    "    plt.scatter(x=Xtest_withconstant[var], y=log_odds)\n",
    "    plt.xlabel(f'{var}')\n",
    "    plt.ylabel('log-odds')\n",
    "    plt.show()"
   ]
  },
  {
   "cell_type": "markdown",
   "id": "90140607",
   "metadata": {},
   "source": [
    "The model does violate the most critical assumption of a logistic regression so the model coeficients need to be taken with a grain of salt."
   ]
  },
  {
   "cell_type": "markdown",
   "id": "39bfb5f8",
   "metadata": {},
   "source": [
    "### Applying Regularization With the Logistic Regression Model:"
   ]
  },
  {
   "cell_type": "code",
   "execution_count": 9,
   "id": "39d019b1",
   "metadata": {},
   "outputs": [
    {
     "name": "stdout",
     "output_type": "stream",
     "text": [
      "AUC score on the train set: 0.8841690394126743\n"
     ]
    }
   ],
   "source": [
    "from sklearn.linear_model import LogisticRegression\n",
    "from sklearn.model_selection import GridSearchCV\n",
    "from sklearn.preprocessing import StandardScaler\n",
    "from sklearn.pipeline import Pipeline\n",
    "from sklearn.metrics import roc_auc_score\n",
    "#from sklearn.metrics import make_scorer, f1_score\n",
    "\n",
    "\n",
    "estimators = [('normalise', StandardScaler()),\n",
    "              ('logit',LogisticRegression())]\n",
    "pipe = Pipeline(estimators)\n",
    "\n",
    "params = {'logit__C': [0.0001,0.001,0.01,0.1,1,10],\n",
    "         'logit__penalty': ['l2']}\n",
    "\n",
    "#f1_scorer = make_scorer(f1_score)\n",
    "\n",
    "grid_search = GridSearchCV(pipe, param_grid=params, scoring='roc_auc')\n",
    "\n",
    "fitted_search = grid_search.fit(X_train_bal, y_train_bal)\n",
    "\n",
    "auc_trainscore = fitted_search.best_score_\n",
    "print(f\"AUC score on the train set: {auc_trainscore}\")"
   ]
  },
  {
   "cell_type": "code",
   "execution_count": 10,
   "id": "dff9ffe1",
   "metadata": {},
   "outputs": [
    {
     "data": {
      "text/plain": [
       "Pipeline(steps=[('normalise', StandardScaler()),\n",
       "                ('logit', LogisticRegression(C=0.01))])"
      ]
     },
     "execution_count": 10,
     "metadata": {},
     "output_type": "execute_result"
    }
   ],
   "source": [
    "fitted_search.best_estimator_"
   ]
  },
  {
   "cell_type": "markdown",
   "id": "a481781c",
   "metadata": {},
   "source": [
    "### Logistic Regression Model Evaluation after Regularization"
   ]
  },
  {
   "cell_type": "code",
   "execution_count": 11,
   "id": "5d9ecdf5",
   "metadata": {},
   "outputs": [
    {
     "data": {
      "image/png": "[encoded data removed]",
      "text/plain": [
       "<Figure size 432x288 with 1 Axes>"
      ]
     },
     "metadata": {
      "needs_background": "light"
     },
     "output_type": "display_data"
    },
    {
     "name": "stdout",
     "output_type": "stream",
     "text": [
      "AUC_Train:0.8845226164578384\n",
      "AUC_Test:0.8783956451335523\n"
     ]
    }
   ],
   "source": [
    "bestlog_model = fitted_search.best_estimator_\n",
    "\n",
    "y_proba_train = bestlog_model.predict_proba(X_train_bal)[:,1]\n",
    "y_proba_test = bestlog_model.predict_proba(X_test)[:,1]\n",
    "\n",
    "fprs_train, tprs_train, thresholds_train = roc_curve(y_train_bal, y_proba_train)\n",
    "fprs_test, tprs_test, thresholds_test = roc_curve(y_test, y_proba_test)\n",
    "roc_auc_train = roc_auc_score(y_train_bal, y_proba_train)\n",
    "roc_auc_test = roc_auc_score(y_test, y_proba_test)\n",
    "\n",
    "plt.figure()\n",
    "plt.plot(fprs_train, tprs_train, color='darkorange',\n",
    "         lw=2, label='AUC_Train = %0.3f' % roc_auc_train)\n",
    "plt.plot(fprs_test, tprs_test, lw=2, label='AUC_Test = %0.3f' % roc_auc_test)\n",
    "plt.plot([0, 1], [0, 1], color='navy', lw=2, linestyle='--')\n",
    "plt.xlabel('False Positive Rate (FPR)')\n",
    "plt.ylabel('True Positive Rate (TPR)')\n",
    "plt.title('ROC Curve for Heart Disease Prediction')\n",
    "plt.legend(loc=\"best\")\n",
    "plt.show()\n",
    "\n",
    "print(f'AUC_Train:{roc_auc_train}')\n",
    "print(f'AUC_Test:{roc_auc_test}')"
   ]
  },
  {
   "cell_type": "markdown",
   "id": "2f9be794",
   "metadata": {},
   "source": [
    "With a Test AUC Score of 0.878, the model doesn't improve after regularization. However it is doing well in distinguishing between individuals who have had a heart attack and individuals who haven't."
   ]
  },
  {
   "cell_type": "code",
   "execution_count": 12,
   "id": "1377d2d8",
   "metadata": {},
   "outputs": [
    {
     "name": "stdout",
     "output_type": "stream",
     "text": [
      "Threshold at desired FPR (0.2): 0.44781982525143343\n",
      "TPR at desired FPR (0.2): 0.7878097860622749\n"
     ]
    }
   ],
   "source": [
    "# Specify the desired FPR \n",
    "desired_fpr = 0.2\n",
    "\n",
    "# Find the index of the point on the ROC curve closest to the desired FPR or TPR\n",
    "index_at_desired_fpr = np.argmin(np.abs(fprs_test - desired_fpr))\n",
    "\n",
    "# Get the corresponding threshold values\n",
    "threshold_at_desired_fpr = thresholds_test[index_at_desired_fpr]\n",
    "tpr_at_desired_fpr = tprs_test[index_at_desired_fpr]\n",
    "\n",
    "\n",
    "print(f\"Threshold at desired FPR ({desired_fpr}): {threshold_at_desired_fpr}\")\n",
    "print(f\"TPR at desired FPR ({desired_fpr}): {tpr_at_desired_fpr}\")"
   ]
  },
  {
   "cell_type": "markdown",
   "id": "be0aea8a",
   "metadata": {},
   "source": [
    "## Using a Decision Tree Classifier <a name=\"decisiontree\"></a>"
   ]
  },
  {
   "cell_type": "code",
   "execution_count": 13,
   "id": "d8e473d4",
   "metadata": {},
   "outputs": [
    {
     "name": "stdout",
     "output_type": "stream",
     "text": [
      "AUC score on the train set: 0.9568849090816857\n"
     ]
    }
   ],
   "source": [
    "from sklearn.tree import DecisionTreeClassifier\n",
    "from tempfile import mkdtemp\n",
    "cachedir = mkdtemp()\n",
    "\n",
    "estimators = [('dt', DecisionTreeClassifier())]\n",
    "\n",
    "pipe = Pipeline(estimators, memory = cachedir)\n",
    "\n",
    "params = {'dt__max_depth': [1,2,5,7,10,20],\n",
    "         'dt__min_samples_split': [2,4,7,11,20]}\n",
    "\n",
    "grid_search = GridSearchCV(pipe, param_grid=params, scoring='roc_auc')\n",
    "\n",
    "fitted_search_dt = grid_search.fit(X_train_bal, y_train_bal)\n",
    "\n",
    "#Evaluating on the AUC score\n",
    "auc_trainscore = fitted_search_dt.best_score_\n",
    "print(f\"AUC score on the train set: {auc_trainscore}\")"
   ]
  },
  {
   "cell_type": "code",
   "execution_count": 14,
   "id": "ab16401d",
   "metadata": {},
   "outputs": [
    {
     "data": {
      "text/plain": [
       "Pipeline(memory='C:\\\\Users\\\\ROLAND~1.TET\\\\AppData\\\\Local\\\\Temp\\\\tmpp6q18b2v',\n",
       "         steps=[('dt',\n",
       "                 DecisionTreeClassifier(max_depth=20, min_samples_split=4))])"
      ]
     },
     "execution_count": 14,
     "metadata": {},
     "output_type": "execute_result"
    }
   ],
   "source": [
    "fitted_search_dt.best_estimator_"
   ]
  },
  {
   "cell_type": "code",
   "execution_count": 15,
   "id": "4b648788",
   "metadata": {},
   "outputs": [
    {
     "data": {
      "text/plain": [
       "{'dt__max_depth': 20, 'dt__min_samples_split': 4}"
      ]
     },
     "execution_count": 15,
     "metadata": {},
     "output_type": "execute_result"
    }
   ],
   "source": [
    "fitted_search_dt.best_params_"
   ]
  },
  {
   "cell_type": "markdown",
   "id": "238e3e35",
   "metadata": {},
   "source": [
    "The best model uses a maximum depth of 20 and a minimum samples split of 2"
   ]
  },
  {
   "cell_type": "markdown",
   "id": "28964348",
   "metadata": {},
   "source": [
    "### Model Evaluation "
   ]
  },
  {
   "cell_type": "code",
   "execution_count": 16,
   "id": "daa3f0f0",
   "metadata": {},
   "outputs": [
    {
     "data": {
      "image/png": "[encoded data removed]",
      "text/plain": [
       "<Figure size 432x288 with 1 Axes>"
      ]
     },
     "metadata": {
      "needs_background": "light"
     },
     "output_type": "display_data"
    },
    {
     "name": "stdout",
     "output_type": "stream",
     "text": [
      "AUC_Train:0.977945405196823\n",
      "AUC_Test:0.6647926493659494\n"
     ]
    }
   ],
   "source": [
    "bestdt_model = fitted_search_dt.best_estimator_\n",
    "\n",
    "y_proba_train = bestdt_model.predict_proba(X_train_bal)[:,1]\n",
    "y_proba_test = bestdt_model.predict_proba(X_test)[:,1]\n",
    "\n",
    "fprs_train, tprs_train, thresholds_train = roc_curve(y_train_bal, y_proba_train)\n",
    "fprs_test, tprs_test, thresholds_test = roc_curve(y_test, y_proba_test)\n",
    "roc_auc_train = roc_auc_score(y_train_bal, y_proba_train)\n",
    "roc_auc_test = roc_auc_score(y_test, y_proba_test)\n",
    "\n",
    "plt.figure()\n",
    "plt.plot(fprs_train, tprs_train, color='darkorange',\n",
    "         lw=2, label='AUC_Train = %0.3f' % roc_auc_train)\n",
    "plt.plot(fprs_test, tprs_test, lw=2, label='AUC_Test = %0.3f' % roc_auc_test)\n",
    "plt.plot([0, 1], [0, 1], color='navy', lw=2, linestyle='--')\n",
    "plt.xlabel('False Positive Rate (FPR)')\n",
    "plt.ylabel('True Positive Rate (TPR)')\n",
    "plt.title('ROC Curve for Heart Disease Prediction')\n",
    "plt.legend(loc=\"best\")\n",
    "plt.show()\n",
    "\n",
    "print(f'AUC_Train:{roc_auc_train}')\n",
    "print(f'AUC_Test:{roc_auc_test}')"
   ]
  },
  {
   "cell_type": "markdown",
   "id": "7967ad60",
   "metadata": {},
   "source": [
    "With a Test AUC Score of 0.665, it is barely doing distinguishing between individuals who have had a heart attack and individuals who haven't."
   ]
  },
  {
   "cell_type": "code",
   "execution_count": 17,
   "id": "d4a55349",
   "metadata": {},
   "outputs": [
    {
     "name": "stdout",
     "output_type": "stream",
     "text": [
      "Threshold at desired FPR (0.2): 0.08531468531468532\n",
      "TPR at desired FPR (0.2): 0.5652933700487185\n"
     ]
    }
   ],
   "source": [
    "# Specify the desired FPR \n",
    "desired_fpr = 0.2\n",
    "\n",
    "# Find the index of the point on the ROC curve closest to the desired FPR or TPR\n",
    "index_at_desired_fpr = np.argmin(np.abs(fprs_test - desired_fpr))\n",
    "\n",
    "# Get the corresponding threshold values\n",
    "threshold_at_desired_fpr = thresholds_test[index_at_desired_fpr]\n",
    "tpr_at_desired_fpr = tprs_test[index_at_desired_fpr]\n",
    "\n",
    "\n",
    "print(f\"Threshold at desired FPR ({desired_fpr}): {threshold_at_desired_fpr}\")\n",
    "print(f\"TPR at desired FPR ({desired_fpr}): {tpr_at_desired_fpr}\")"
   ]
  },
  {
   "cell_type": "markdown",
   "id": "38d513c0",
   "metadata": {},
   "source": [
    "## Using a Naives Bayes Classification <a name=\"NaivesBayes\"></a>"
   ]
  },
  {
   "cell_type": "code",
   "execution_count": 18,
   "id": "3e2427ac",
   "metadata": {},
   "outputs": [
    {
     "name": "stdout",
     "output_type": "stream",
     "text": [
      "Fitting 5 folds for each of 3 candidates, totalling 15 fits\n",
      "[CV 1/5] END .......................GNB__var_smoothing=1e-11; total time=   2.1s\n",
      "[CV 2/5] END .......................GNB__var_smoothing=1e-11; total time=   2.1s\n",
      "[CV 3/5] END .......................GNB__var_smoothing=1e-11; total time=   2.1s\n",
      "[CV 4/5] END .......................GNB__var_smoothing=1e-11; total time=   2.3s\n",
      "[CV 5/5] END .......................GNB__var_smoothing=1e-11; total time=   2.0s\n",
      "[CV 1/5] END .......................GNB__var_smoothing=1e-10; total time=   0.9s\n",
      "[CV 2/5] END .......................GNB__var_smoothing=1e-10; total time=   0.9s\n",
      "[CV 3/5] END .......................GNB__var_smoothing=1e-10; total time=   0.8s\n",
      "[CV 4/5] END .......................GNB__var_smoothing=1e-10; total time=   0.9s\n",
      "[CV 5/5] END .......................GNB__var_smoothing=1e-10; total time=   0.9s\n",
      "[CV 1/5] END .......................GNB__var_smoothing=1e-09; total time=   1.1s\n",
      "[CV 2/5] END .......................GNB__var_smoothing=1e-09; total time=   1.1s\n",
      "[CV 3/5] END .......................GNB__var_smoothing=1e-09; total time=   0.9s\n",
      "[CV 4/5] END .......................GNB__var_smoothing=1e-09; total time=   0.9s\n",
      "[CV 5/5] END .......................GNB__var_smoothing=1e-09; total time=   0.9s\n",
      "AUC score on the train set: 0.8192005959652142\n"
     ]
    }
   ],
   "source": [
    "from sklearn.naive_bayes import GaussianNB\n",
    "\n",
    "\n",
    "estimators = [('normalise', StandardScaler()),\n",
    "              ('GNB', GaussianNB())]\n",
    "pipe = Pipeline(estimators, memory = cachedir)\n",
    "\n",
    "params = {'GNB__var_smoothing': [0.00000000001,0.0000000001,0.000000001]}\n",
    "\n",
    "\n",
    "grid_search = GridSearchCV(pipe, param_grid=params, scoring='roc_auc', verbose=5)\n",
    "\n",
    "fitted_search_GNB = grid_search.fit(X_train_bal, y_train_bal)\n",
    "\n",
    "#Evaluating on the AUC score\n",
    "auc_trainscore = fitted_search_GNB.best_score_\n",
    "print(f\"AUC score on the train set: {auc_trainscore}\")"
   ]
  },
  {
   "cell_type": "code",
   "execution_count": 19,
   "id": "f341bb51",
   "metadata": {},
   "outputs": [
    {
     "data": {
      "text/plain": [
       "Pipeline(memory='C:\\\\Users\\\\ROLAND~1.TET\\\\AppData\\\\Local\\\\Temp\\\\tmpp6q18b2v',\n",
       "         steps=[('normalise', StandardScaler()),\n",
       "                ('GNB', GaussianNB(var_smoothing=1e-11))])"
      ]
     },
     "execution_count": 19,
     "metadata": {},
     "output_type": "execute_result"
    }
   ],
   "source": [
    "fitted_search_GNB.best_estimator_"
   ]
  },
  {
   "cell_type": "code",
   "execution_count": 20,
   "id": "e16c5f02",
   "metadata": {},
   "outputs": [
    {
     "data": {
      "text/plain": [
       "{'GNB__var_smoothing': 1e-11}"
      ]
     },
     "execution_count": 20,
     "metadata": {},
     "output_type": "execute_result"
    }
   ],
   "source": [
    "fitted_search_GNB.best_params_"
   ]
  },
  {
   "cell_type": "markdown",
   "id": "d250c162",
   "metadata": {},
   "source": [
    "### Model Evaluation "
   ]
  },
  {
   "cell_type": "markdown",
   "id": "3eea528b",
   "metadata": {},
   "source": [
    "The train AUC Score was 0.88, however since LinearSVC doesn't return predicted probabilities,and the dataset is too large to run it using the SVC model, going with the F score to assess the performance:"
   ]
  },
  {
   "cell_type": "code",
   "execution_count": 21,
   "id": "09f16064",
   "metadata": {},
   "outputs": [
    {
     "data": {
      "image/png": "[encoded data removed]",
      "text/plain": [
       "<Figure size 432x288 with 1 Axes>"
      ]
     },
     "metadata": {
      "needs_background": "light"
     },
     "output_type": "display_data"
    },
    {
     "name": "stdout",
     "output_type": "stream",
     "text": [
      "AUC_Train:0.8197110391871164\n",
      "AUC_Test:0.8153374402782867\n"
     ]
    }
   ],
   "source": [
    "bestgnb_model = fitted_search_GNB.best_estimator_\n",
    "\n",
    "y_proba_train = bestgnb_model.predict_proba(X_train_bal)[:,1]\n",
    "y_proba_test = bestgnb_model.predict_proba(X_test)[:,1]\n",
    "\n",
    "fprs_train, tprs_train, thresholds_train = roc_curve(y_train_bal, y_proba_train)\n",
    "fprs_test, tprs_test, thresholds_test = roc_curve(y_test, y_proba_test)\n",
    "roc_auc_train = roc_auc_score(y_train_bal, y_proba_train)\n",
    "roc_auc_test = roc_auc_score(y_test, y_proba_test)\n",
    "\n",
    "plt.figure()\n",
    "plt.plot(fprs_train, tprs_train, color='darkorange',\n",
    "         lw=2, label='AUC_Train = %0.3f' % roc_auc_train)\n",
    "plt.plot(fprs_test, tprs_test, lw=2, label='AUC_Test = %0.3f' % roc_auc_test)\n",
    "plt.plot([0, 1], [0, 1], color='navy', lw=2, linestyle='--')\n",
    "plt.xlabel('False Positive Rate (FPR)')\n",
    "plt.ylabel('True Positive Rate (TPR)')\n",
    "plt.title('ROC Curve for Heart Disease Prediction')\n",
    "plt.legend(loc=\"best\")\n",
    "plt.show()\n",
    "\n",
    "print(f'AUC_Train:{roc_auc_train}')\n",
    "print(f'AUC_Test:{roc_auc_test}')"
   ]
  },
  {
   "cell_type": "code",
   "execution_count": 22,
   "id": "a0b96816",
   "metadata": {},
   "outputs": [
    {
     "name": "stdout",
     "output_type": "stream",
     "text": [
      "Threshold at desired FPR (0.2): 0.986477727067339\n",
      "TPR at desired FPR (0.2): 0.7014933276848125\n"
     ]
    }
   ],
   "source": [
    "# Specify the desired FPR \n",
    "desired_fpr = 0.2\n",
    "\n",
    "# Find the index of the point on the ROC curve closest to the desired FPR or TPR\n",
    "index_at_desired_fpr = np.argmin(np.abs(fprs_test - desired_fpr))\n",
    "\n",
    "# Get the corresponding threshold values\n",
    "threshold_at_desired_fpr = thresholds_test[index_at_desired_fpr]\n",
    "tpr_at_desired_fpr = tprs_test[index_at_desired_fpr]\n",
    "\n",
    "\n",
    "print(f\"Threshold at desired FPR ({desired_fpr}): {threshold_at_desired_fpr}\")\n",
    "print(f\"TPR at desired FPR ({desired_fpr}): {tpr_at_desired_fpr}\")"
   ]
  },
  {
   "cell_type": "markdown",
   "id": "d3644c69",
   "metadata": {},
   "source": [
    "## Using a Random Forest Classifier <a name=\"rfc\"></a>"
   ]
  },
  {
   "cell_type": "code",
   "execution_count": 23,
   "id": "3e594731",
   "metadata": {},
   "outputs": [
    {
     "name": "stdout",
     "output_type": "stream",
     "text": [
      "AUC score on the train set: 0.9998378402503582\n"
     ]
    }
   ],
   "source": [
    "\n",
    "from sklearn.ensemble import RandomForestClassifier\n",
    "\n",
    "\n",
    "estimators = [('normalise', StandardScaler()),\n",
    "              ('rfc', RandomForestClassifier())]\n",
    "\n",
    "pipe = Pipeline(estimators, memory = cachedir)\n",
    "\n",
    "params = {'rfc__n_estimators': [10,20,30],\n",
    "         'rfc__max_depth': [1,2,5,7,10,20,30],\n",
    "         'rfc__min_samples_split': [2,4,7,11,20]}\n",
    "\n",
    "\n",
    "grid_search = GridSearchCV(pipe, param_grid=params, scoring='roc_auc')\n",
    "\n",
    "fitted_search_rfc = grid_search.fit(X_train_bal, y_train_bal)\n",
    "\n",
    "#Evaluating on the AUC score\n",
    "auc_trainscore = fitted_search_rfc.best_score_\n",
    "print(f\"AUC score on the train set: {auc_trainscore}\")"
   ]
  },
  {
   "cell_type": "code",
   "execution_count": 24,
   "id": "a620b94f",
   "metadata": {},
   "outputs": [
    {
     "data": {
      "text/plain": [
       "Pipeline(memory='C:\\\\Users\\\\ROLAND~1.TET\\\\AppData\\\\Local\\\\Temp\\\\tmpp6q18b2v',\n",
       "         steps=[('normalise', StandardScaler()),\n",
       "                ('rfc',\n",
       "                 RandomForestClassifier(max_depth=30, min_samples_split=4,\n",
       "                                        n_estimators=30))])"
      ]
     },
     "execution_count": 24,
     "metadata": {},
     "output_type": "execute_result"
    }
   ],
   "source": [
    "fitted_search_rfc.best_estimator_"
   ]
  },
  {
   "cell_type": "code",
   "execution_count": 25,
   "id": "363f98fa",
   "metadata": {},
   "outputs": [
    {
     "data": {
      "text/plain": [
       "{'rfc__max_depth': 30, 'rfc__min_samples_split': 4, 'rfc__n_estimators': 30}"
      ]
     },
     "execution_count": 25,
     "metadata": {},
     "output_type": "execute_result"
    }
   ],
   "source": [
    "fitted_search_rfc.best_params_"
   ]
  },
  {
   "cell_type": "markdown",
   "id": "f321b69c",
   "metadata": {},
   "source": [
    "### Model Evaluation"
   ]
  },
  {
   "cell_type": "code",
   "execution_count": 26,
   "id": "f23d4882",
   "metadata": {},
   "outputs": [
    {
     "data": {
      "image/png": "[encoded data removed]",
      "text/plain": [
       "<Figure size 432x288 with 1 Axes>"
      ]
     },
     "metadata": {
      "needs_background": "light"
     },
     "output_type": "display_data"
    },
    {
     "name": "stdout",
     "output_type": "stream",
     "text": [
      "AUC_Train:0.9999889604582093\n",
      "AUC_Test:0.8524140670124204\n"
     ]
    }
   ],
   "source": [
    "bestrfc_model = fitted_search_rfc.best_estimator_\n",
    "\n",
    "y_proba_train = bestrfc_model.predict_proba(X_train_bal)[:,1]\n",
    "y_proba_test = bestrfc_model.predict_proba(X_test)[:,1]\n",
    "\n",
    "fprs_train, tprs_train, thresholds_train = roc_curve(y_train_bal, y_proba_train)\n",
    "fprs_test, tprs_test, thresholds_test = roc_curve(y_test, y_proba_test)\n",
    "roc_auc_train = roc_auc_score(y_train_bal, y_proba_train)\n",
    "roc_auc_test = roc_auc_score(y_test, y_proba_test)\n",
    "\n",
    "plt.figure()\n",
    "plt.plot(fprs_train, tprs_train, color='darkorange',\n",
    "         lw=2, label='AUC_Train = %0.3f' % roc_auc_train)\n",
    "plt.plot(fprs_test, tprs_test, lw=2, label='AUC_Test = %0.3f' % roc_auc_test)\n",
    "plt.plot([0, 1], [0, 1], color='navy', lw=2, linestyle='--')\n",
    "plt.xlabel('False Positive Rate (FPR)')\n",
    "plt.ylabel('True Positive Rate (TPR)')\n",
    "plt.title('ROC Curve for Heart Disease Prediction')\n",
    "plt.legend(loc=\"best\")\n",
    "plt.show()\n",
    "\n",
    "print(f'AUC_Train:{roc_auc_train}')\n",
    "print(f'AUC_Test:{roc_auc_test}')"
   ]
  },
  {
   "cell_type": "markdown",
   "id": "dfbe48fa",
   "metadata": {},
   "source": [
    "With a Test AUC Score of 0.85, it is doing well in distinguishing between individuals who have had a heart attack and individuals who haven't."
   ]
  },
  {
   "cell_type": "code",
   "execution_count": 27,
   "id": "e9011894",
   "metadata": {},
   "outputs": [
    {
     "name": "stdout",
     "output_type": "stream",
     "text": [
      "Threshold at desired FPR (0.2): 0.13333333333333333\n",
      "TPR at desired FPR (0.2): 0.753918661300572\n"
     ]
    }
   ],
   "source": [
    "# Specify the desired FPR \n",
    "desired_fpr = 0.2\n",
    "\n",
    "# Find the index of the point on the ROC curve closest to the desired FPR or TPR\n",
    "index_at_desired_fpr = np.argmin(np.abs(fprs_test - desired_fpr))\n",
    "\n",
    "# Get the corresponding threshold values\n",
    "threshold_at_desired_fpr = thresholds_test[index_at_desired_fpr]\n",
    "tpr_at_desired_fpr = tprs_test[index_at_desired_fpr]\n",
    "\n",
    "\n",
    "print(f\"Threshold at desired FPR ({desired_fpr}): {threshold_at_desired_fpr}\")\n",
    "print(f\"TPR at desired FPR ({desired_fpr}): {tpr_at_desired_fpr}\")"
   ]
  },
  {
   "cell_type": "code",
   "execution_count": 28,
   "id": "46d64bd3",
   "metadata": {},
   "outputs": [
    {
     "name": "stdout",
     "output_type": "stream",
     "text": [
      "                                              Feature  Importance\n",
      "68                                      HadAngina_Yes    0.153560\n",
      "5                                   WeightInKilograms    0.054050\n",
      "97                                  AgeCategory_older    0.044566\n",
      "4                                      HeightInMeters    0.043154\n",
      "91                                      ChestScan_Yes    0.036043\n",
      "..                                                ...         ...\n",
      "19                                     State_Illinois    0.000899\n",
      "16                                         State_Guam    0.000883\n",
      "13                         State_District of Columbia    0.000733\n",
      "78  HadDiabetes_Yes, but only during pregnancy (fe...    0.000596\n",
      "53                               State_Virgin Islands    0.000351\n",
      "\n",
      "[110 rows x 2 columns]\n"
     ]
    }
   ],
   "source": [
    "# Get feature names and importances\n",
    "feature_names = X.columns.tolist()\n",
    "importances = bestrfc_model.named_steps['rfc'].feature_importances_\n",
    "\n",
    "\n",
    "feature_importance_df = pd.DataFrame({'Feature': feature_names, 'Importance': importances})\n",
    "\n",
    "\n",
    "feature_importance_df = feature_importance_df.sort_values(by='Importance', ascending=False)\n",
    "\n",
    "\n",
    "print(feature_importance_df)"
   ]
  },
  {
   "cell_type": "markdown",
   "id": "17b0cb65",
   "metadata": {},
   "source": [
    "Next Steps, applying ensemble learning methods based on the best models derived from this step."
   ]
  }
 ],
 "metadata": {
  "kernelspec": {
   "display_name": "Python 3",
   "language": "python",
   "name": "python3"
  },
  "language_info": {
   "codemirror_mode": {
    "name": "ipython",
    "version": 3
   },
   "file_extension": ".py",
   "mimetype": "text/x-python",
   "name": "python",
   "nbconvert_exporter": "python",
   "pygments_lexer": "ipython3",
   "version": "3.8.8"
  }
 },
 "nbformat": 4,
 "nbformat_minor": 5
}
